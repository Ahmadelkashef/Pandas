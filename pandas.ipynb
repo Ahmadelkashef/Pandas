{
 "cells": [
  {
   "cell_type": "code",
   "execution_count": 1,
   "id": "1e9aee87",
   "metadata": {
    "_cell_guid": "b1076dfc-b9ad-4769-8c92-a6c4dae69d19",
    "_uuid": "8f2839f25d086af736a60e9eeb907d3b93b6e0e5",
    "execution": {
     "iopub.execute_input": "2022-02-08T01:09:18.268854Z",
     "iopub.status.busy": "2022-02-08T01:09:18.267067Z",
     "iopub.status.idle": "2022-02-08T01:09:18.278901Z",
     "shell.execute_reply": "2022-02-08T01:09:18.279424Z",
     "shell.execute_reply.started": "2022-02-07T22:17:17.292073Z"
    },
    "papermill": {
     "duration": 0.08313,
     "end_time": "2022-02-08T01:09:18.279713",
     "exception": false,
     "start_time": "2022-02-08T01:09:18.196583",
     "status": "completed"
    },
    "tags": []
   },
   "outputs": [],
   "source": [
    "# This Python 3 environment comes with many helpful analytics libraries installed\n",
    "# It is defined by the kaggle/python Docker image: https://github.com/kaggle/docker-python\n",
    "# For example, here's several helpful packages to load\n",
    "\n",
    "import numpy as np # linear algebra\n",
    "import pandas as pd # data processing, CSV file I/O (e.g. pd.read_csv)\n",
    "\n",
    "# Input data files are available in the read-only \"../input/\" directory\n",
    "# For example, running this (by clicking run or pressing Shift+Enter) will list all files under the input directory\n",
    "\n",
    "import os\n",
    "for dirname, _, filenames in os.walk('/kaggle/input'):\n",
    "    for filename in filenames:\n",
    "        print(os.path.join(dirname, filename))\n",
    "\n",
    "# You can write up to 20GB to the current directory (/kaggle/working/) that gets preserved as output when you create a version using \"Save & Run All\" \n",
    "# You can also write temporary files to /kaggle/temp/, but they won't be saved outside of the current session"
   ]
  },
  {
   "cell_type": "code",
   "execution_count": 2,
   "id": "afc2470d",
   "metadata": {
    "execution": {
     "iopub.execute_input": "2022-02-08T01:09:18.414603Z",
     "iopub.status.busy": "2022-02-08T01:09:18.413706Z",
     "iopub.status.idle": "2022-02-08T01:09:18.417023Z",
     "shell.execute_reply": "2022-02-08T01:09:18.417602Z",
     "shell.execute_reply.started": "2022-02-07T22:19:14.128793Z"
    },
    "papermill": {
     "duration": 0.074168,
     "end_time": "2022-02-08T01:09:18.417790",
     "exception": false,
     "start_time": "2022-02-08T01:09:18.343622",
     "status": "completed"
    },
    "tags": []
   },
   "outputs": [],
   "source": [
    "# Pandas Series\n",
    "\n",
    "# A pandas series is a one-dimensional array-like object that can hold many data types, \n",
    "# such as numbers or strings, and has an option to provide axis labels. "
   ]
  },
  {
   "cell_type": "code",
   "execution_count": 3,
   "id": "a3649a97",
   "metadata": {
    "execution": {
     "iopub.execute_input": "2022-02-08T01:09:18.568565Z",
     "iopub.status.busy": "2022-02-08T01:09:18.566971Z",
     "iopub.status.idle": "2022-02-08T01:09:18.570574Z",
     "shell.execute_reply": "2022-02-08T01:09:18.571135Z",
     "shell.execute_reply.started": "2022-02-07T22:20:51.870753Z"
    },
    "papermill": {
     "duration": 0.075804,
     "end_time": "2022-02-08T01:09:18.571349",
     "exception": false,
     "start_time": "2022-02-08T01:09:18.495545",
     "status": "completed"
    },
    "tags": []
   },
   "outputs": [],
   "source": [
    "#     Differences between NumPy ndarrays and Pandas Series\n",
    "\n",
    "#    One of the main differences between pandas Series and NumPy ndarrays\n",
    "#    is that you can assign an index label to each element in the pandas Series.\n",
    "#    In other words, you can name the indices of your pandas Series anything you want.\n",
    "\n",
    "#    Another big difference between pandas Series and NumPy ndarrays \n",
    "#    is that pandas Series can hold data of different data types.\n"
   ]
  },
  {
   "cell_type": "code",
   "execution_count": 4,
   "id": "61ce96f2",
   "metadata": {
    "execution": {
     "iopub.execute_input": "2022-02-08T01:09:18.705985Z",
     "iopub.status.busy": "2022-02-08T01:09:18.705008Z",
     "iopub.status.idle": "2022-02-08T01:09:18.713702Z",
     "shell.execute_reply": "2022-02-08T01:09:18.714288Z",
     "shell.execute_reply.started": "2022-02-07T22:22:34.048599Z"
    },
    "papermill": {
     "duration": 0.078744,
     "end_time": "2022-02-08T01:09:18.714445",
     "exception": false,
     "start_time": "2022-02-08T01:09:18.635701",
     "status": "completed"
    },
    "tags": []
   },
   "outputs": [
    {
     "data": {
      "text/plain": [
       "eggs       30\n",
       "apples      6\n",
       "milk      Yes\n",
       "bread      No\n",
       "dtype: object"
      ]
     },
     "execution_count": 4,
     "metadata": {},
     "output_type": "execute_result"
    }
   ],
   "source": [
    "#  Create a Series\n",
    "\n",
    "# We import pandas as pd into Python\n",
    "import pandas as pd\n",
    "\n",
    "# We create a pandas Series that stores a grocery list\n",
    "groceries = pd.Series(data = [30, 6, 'Yes', 'No'], index = ['eggs', 'apples', 'milk', 'bread'])\n",
    "\n",
    "# We display the groceries pandas Series\n",
    "groceries\n"
   ]
  },
  {
   "cell_type": "code",
   "execution_count": 5,
   "id": "bcfa9b68",
   "metadata": {
    "execution": {
     "iopub.execute_input": "2022-02-08T01:09:18.841781Z",
     "iopub.status.busy": "2022-02-08T01:09:18.841142Z",
     "iopub.status.idle": "2022-02-08T01:09:18.844325Z",
     "shell.execute_reply": "2022-02-08T01:09:18.844862Z",
     "shell.execute_reply.started": "2022-02-07T22:24:49.968199Z"
    },
    "papermill": {
     "duration": 0.068418,
     "end_time": "2022-02-08T01:09:18.845018",
     "exception": false,
     "start_time": "2022-02-08T01:09:18.776600",
     "status": "completed"
    },
    "tags": []
   },
   "outputs": [],
   "source": [
    "# We see that pandas Series are displayed with \n",
    "# the indices in the first column and the data in the second column.\n",
    "# Notice that the data is not indexed 0 to 3 \n",
    "# but rather it is indexed with the names of the food we put in,\n",
    "# namely eggs, apples, etc... Also, \n",
    "# notice that the data in our pandas Series has both integers and strings."
   ]
  },
  {
   "cell_type": "code",
   "execution_count": 6,
   "id": "d9a5df74",
   "metadata": {
    "execution": {
     "iopub.execute_input": "2022-02-08T01:09:18.971938Z",
     "iopub.status.busy": "2022-02-08T01:09:18.971328Z",
     "iopub.status.idle": "2022-02-08T01:09:18.979811Z",
     "shell.execute_reply": "2022-02-08T01:09:18.980358Z",
     "shell.execute_reply.started": "2022-02-07T22:26:44.924754Z"
    },
    "papermill": {
     "duration": 0.074178,
     "end_time": "2022-02-08T01:09:18.980517",
     "exception": false,
     "start_time": "2022-02-08T01:09:18.906339",
     "status": "completed"
    },
    "tags": []
   },
   "outputs": [
    {
     "name": "stdout",
     "output_type": "stream",
     "text": [
      "Groceries has shape: (4,)\n",
      "Groceries has dimension: 1\n",
      "Groceries has a total of 4 elements\n"
     ]
    }
   ],
   "source": [
    "# Just like NumPy ndarrays,\n",
    "# pandas Series have attributes that allow us to \n",
    "# get information from the series in an easy way. Let's see some of them:\n",
    "# Print attributes - shape, ndim,and size\n",
    "\n",
    "# We create a pandas Series that stores a grocery list\n",
    "groceries = pd.Series(data = [30, 6, 'Yes', 'No'], index = ['eggs', 'apples', 'milk', 'bread'])\n",
    "\n",
    "# We display the groceries pandas Series\n",
    "groceries\n",
    "\n",
    "# We print some information about Groceries\n",
    "print('Groceries has shape:', groceries.shape)\n",
    "print('Groceries has dimension:', groceries.ndim)\n",
    "print('Groceries has a total of', groceries.size, 'elements')\n"
   ]
  },
  {
   "cell_type": "code",
   "execution_count": 7,
   "id": "4f51f90a",
   "metadata": {
    "execution": {
     "iopub.execute_input": "2022-02-08T01:09:19.108120Z",
     "iopub.status.busy": "2022-02-08T01:09:19.107477Z",
     "iopub.status.idle": "2022-02-08T01:09:19.113676Z",
     "shell.execute_reply": "2022-02-08T01:09:19.114253Z",
     "shell.execute_reply.started": "2022-02-07T22:27:15.575942Z"
    },
    "papermill": {
     "duration": 0.071,
     "end_time": "2022-02-08T01:09:19.114421",
     "exception": false,
     "start_time": "2022-02-08T01:09:19.043421",
     "status": "completed"
    },
    "tags": []
   },
   "outputs": [
    {
     "name": "stdout",
     "output_type": "stream",
     "text": [
      "The data in Groceries is: [30 6 'Yes' 'No']\n",
      "The index of Groceries is: Index(['eggs', 'apples', 'milk', 'bread'], dtype='object')\n"
     ]
    }
   ],
   "source": [
    "# Print attributes - values, and index\n",
    "\n",
    "# We print the index and data of Groceries\n",
    "print('The data in Groceries is:', groceries.values)\n",
    "print('The index of Groceries is:', groceries.index)\n"
   ]
  },
  {
   "cell_type": "code",
   "execution_count": 8,
   "id": "efa4406e",
   "metadata": {
    "execution": {
     "iopub.execute_input": "2022-02-08T01:09:19.249054Z",
     "iopub.status.busy": "2022-02-08T01:09:19.248369Z",
     "iopub.status.idle": "2022-02-08T01:09:19.254658Z",
     "shell.execute_reply": "2022-02-08T01:09:19.254062Z",
     "shell.execute_reply.started": "2022-02-07T22:28:24.649484Z"
    },
    "papermill": {
     "duration": 0.074957,
     "end_time": "2022-02-08T01:09:19.254796",
     "exception": false,
     "start_time": "2022-02-08T01:09:19.179839",
     "status": "completed"
    },
    "tags": []
   },
   "outputs": [
    {
     "name": "stdout",
     "output_type": "stream",
     "text": [
      "Is bananas an index label in Groceries: False\n",
      "Is bread an index label in Groceries: True\n"
     ]
    }
   ],
   "source": [
    "# If you are dealing with a very large pandas Series \n",
    "# and if you are not sure whether an index label exists, you can check by using the in command\n",
    "\n",
    "#Check if an index is available in the given Series\n",
    "\n",
    "# We check whether bananas is a food item (an index) in Groceries\n",
    "x = 'bananas' in groceries\n",
    "\n",
    "# We check whether bread is a food item (an index) in Groceries\n",
    "y = 'bread' in groceries\n",
    "\n",
    "# We print the results\n",
    "print('Is bananas an index label in Groceries:', x)\n",
    "print('Is bread an index label in Groceries:', y)\n"
   ]
  },
  {
   "cell_type": "code",
   "execution_count": 9,
   "id": "8c24c130",
   "metadata": {
    "execution": {
     "iopub.execute_input": "2022-02-08T01:09:19.394965Z",
     "iopub.status.busy": "2022-02-08T01:09:19.394274Z",
     "iopub.status.idle": "2022-02-08T01:09:19.411232Z",
     "shell.execute_reply": "2022-02-08T01:09:19.412170Z",
     "shell.execute_reply.started": "2022-02-07T22:32:20.257800Z"
    },
    "papermill": {
     "duration": 0.091454,
     "end_time": "2022-02-08T01:09:19.412469",
     "exception": false,
     "start_time": "2022-02-08T01:09:19.321015",
     "status": "completed"
    },
    "tags": []
   },
   "outputs": [
    {
     "name": "stdout",
     "output_type": "stream",
     "text": [
      "eggs       30\n",
      "apples      6\n",
      "milk      Yes\n",
      "bread      No\n",
      "dtype: object\n",
      "How many eggs do we need to buy: 30\n",
      "\n",
      "Do we need milk and bread:\n",
      " milk     Yes\n",
      "bread     No\n",
      "dtype: object\n",
      "\n"
     ]
    }
   ],
   "source": [
    "#  Access elements using index labels\n",
    "\n",
    "# We access elements in Groceries using index labels:\n",
    "\n",
    "# We create a pandas Series that stores a grocery list\n",
    "groceries = pd.Series(data = [30, 6, 'Yes', 'No'], index = ['eggs', 'apples', 'milk', 'bread'])\n",
    "\n",
    "# We display the groceries pandas Series\n",
    "print(groceries)\n",
    "\n",
    "# We use a single index label\n",
    "print('How many eggs do we need to buy:', groceries['eggs'])\n",
    "print()\n",
    "\n",
    "# we can access multiple index labels\n",
    "print('Do we need milk and bread:\\n', groceries[['milk', 'bread']]) \n",
    "print()"
   ]
  },
  {
   "cell_type": "code",
   "execution_count": 10,
   "id": "ef49f206",
   "metadata": {
    "execution": {
     "iopub.execute_input": "2022-02-08T01:09:19.550603Z",
     "iopub.status.busy": "2022-02-08T01:09:19.549909Z",
     "iopub.status.idle": "2022-02-08T01:09:19.560691Z",
     "shell.execute_reply": "2022-02-08T01:09:19.561309Z",
     "shell.execute_reply.started": "2022-02-07T22:33:30.246247Z"
    },
    "papermill": {
     "duration": 0.079123,
     "end_time": "2022-02-08T01:09:19.561468",
     "exception": false,
     "start_time": "2022-02-08T01:09:19.482345",
     "status": "completed"
    },
    "tags": []
   },
   "outputs": [
    {
     "name": "stdout",
     "output_type": "stream",
     "text": [
      "eggs       30\n",
      "apples      6\n",
      "milk      Yes\n",
      "bread      No\n",
      "dtype: object\n",
      "How many eggs and apples do we need to buy:\n",
      " eggs      30\n",
      "apples     6\n",
      "dtype: object\n",
      "\n",
      "How many eggs and apples do we need to buy:\n",
      " eggs      30\n",
      "apples     6\n",
      "dtype: object\n"
     ]
    }
   ],
   "source": [
    "# We create a pandas Series that stores a grocery list\n",
    "groceries = pd.Series(data = [30, 6, 'Yes', 'No'], index = ['eggs', 'apples', 'milk', 'bread'])\n",
    "\n",
    "# We display the groceries pandas Series\n",
    "print(groceries)\n",
    "\n",
    "# we use loc to access multiple index labels\n",
    "print('How many eggs and apples do we need to buy:\\n', groceries.loc[['eggs', 'apples']]) \n",
    "print()\n",
    "\n",
    "# We access elements in Groceries using numerical indices:\n",
    "\n",
    "# we use multiple numerical indices\n",
    "print('How many eggs and apples do we need to buy:\\n',  groceries[[0, 1]]) "
   ]
  },
  {
   "cell_type": "code",
   "execution_count": 11,
   "id": "7b57e15a",
   "metadata": {
    "execution": {
     "iopub.execute_input": "2022-02-08T01:09:19.690732Z",
     "iopub.status.busy": "2022-02-08T01:09:19.689764Z",
     "iopub.status.idle": "2022-02-08T01:09:19.699087Z",
     "shell.execute_reply": "2022-02-08T01:09:19.699585Z",
     "shell.execute_reply.started": "2022-02-07T22:34:47.125569Z"
    },
    "papermill": {
     "duration": 0.075977,
     "end_time": "2022-02-08T01:09:19.699776",
     "exception": false,
     "start_time": "2022-02-08T01:09:19.623799",
     "status": "completed"
    },
    "tags": []
   },
   "outputs": [
    {
     "name": "stdout",
     "output_type": "stream",
     "text": [
      "eggs       30\n",
      "apples      6\n",
      "milk      Yes\n",
      "bread      No\n",
      "dtype: object\n",
      "How many eggs and apples do we need to buy:\n",
      " eggs      30\n",
      "apples     6\n",
      "dtype: object\n",
      "Do we need milk and bread:\n",
      " milk     Yes\n",
      "bread     No\n",
      "dtype: object\n"
     ]
    }
   ],
   "source": [
    "# We create a pandas Series that stores a grocery list\n",
    "groceries = pd.Series(data = [30, 6, 'Yes', 'No'], index = ['eggs', 'apples', 'milk', 'bread'])\n",
    "\n",
    "# We display the groceries pandas Series\n",
    "print(groceries)\n",
    "\n",
    "\n",
    "print('How many eggs and apples do we need to buy:\\n', groceries.loc[['eggs', 'apples']]) \n",
    "\n",
    "print('Do we need milk and bread:\\n', groceries.iloc[[2, 3]]) "
   ]
  },
  {
   "cell_type": "code",
   "execution_count": 12,
   "id": "6cb72ecd",
   "metadata": {
    "execution": {
     "iopub.execute_input": "2022-02-08T01:09:19.837303Z",
     "iopub.status.busy": "2022-02-08T01:09:19.836544Z",
     "iopub.status.idle": "2022-02-08T01:09:19.844465Z",
     "shell.execute_reply": "2022-02-08T01:09:19.845275Z",
     "shell.execute_reply.started": "2022-02-07T22:36:05.849080Z"
    },
    "papermill": {
     "duration": 0.078437,
     "end_time": "2022-02-08T01:09:19.845624",
     "exception": false,
     "start_time": "2022-02-08T01:09:19.767187",
     "status": "completed"
    },
    "tags": []
   },
   "outputs": [
    {
     "name": "stdout",
     "output_type": "stream",
     "text": [
      "Original Grocery List:\n",
      " eggs       30\n",
      "apples      6\n",
      "milk      Yes\n",
      "bread      No\n",
      "dtype: object\n",
      "\n",
      "Modified Grocery List:\n",
      " eggs        2\n",
      "apples      6\n",
      "milk      Yes\n",
      "bread      No\n",
      "dtype: object\n"
     ]
    }
   ],
   "source": [
    "# Mutate elements using index labels\n",
    "\n",
    "# We create a pandas Series that stores a grocery list\n",
    "groceries = pd.Series(data = [30, 6, 'Yes', 'No'], index = ['eggs', 'apples', 'milk', 'bread'])\n",
    "\n",
    "# We display the original grocery list\n",
    "print('Original Grocery List:\\n', groceries)\n",
    "\n",
    "# We change the number of eggs to 2\n",
    "groceries['eggs'] = 2\n",
    "\n",
    "# We display the changed grocery list\n",
    "print()\n",
    "print('Modified Grocery List:\\n', groceries)\n"
   ]
  },
  {
   "cell_type": "code",
   "execution_count": 13,
   "id": "4d699e9d",
   "metadata": {
    "execution": {
     "iopub.execute_input": "2022-02-08T01:09:19.986457Z",
     "iopub.status.busy": "2022-02-08T01:09:19.983732Z",
     "iopub.status.idle": "2022-02-08T01:09:19.993462Z",
     "shell.execute_reply": "2022-02-08T01:09:19.994159Z",
     "shell.execute_reply.started": "2022-02-07T22:36:48.876641Z"
    },
    "papermill": {
     "duration": 0.080669,
     "end_time": "2022-02-08T01:09:19.994417",
     "exception": false,
     "start_time": "2022-02-08T01:09:19.913748",
     "status": "completed"
    },
    "tags": []
   },
   "outputs": [
    {
     "name": "stdout",
     "output_type": "stream",
     "text": [
      "Original Grocery List:\n",
      " eggs        2\n",
      "apples      6\n",
      "milk      Yes\n",
      "bread      No\n",
      "dtype: object\n",
      "\n",
      "We remove apples (out of place):\n",
      " eggs       2\n",
      "milk     Yes\n",
      "bread     No\n",
      "dtype: object\n",
      "\n",
      "Grocery List after removing apples out of place:\n",
      " eggs        2\n",
      "apples      6\n",
      "milk      Yes\n",
      "bread      No\n",
      "dtype: object\n"
     ]
    }
   ],
   "source": [
    "#  Delete elements out-of-place using drop()\n",
    "\n",
    "# We display the original grocery list\n",
    "print('Original Grocery List:\\n', groceries)\n",
    "\n",
    "# We remove apples from our grocery list. The drop function removes elements out of place\n",
    "print()\n",
    "print('We remove apples (out of place):\\n', groceries.drop('apples'))\n",
    "\n",
    "# When we remove elements out of place the original Series remains intact. To see this\n",
    "# we display our grocery list again\n",
    "print()\n",
    "print('Grocery List after removing apples out of place:\\n', groceries)\n"
   ]
  },
  {
   "cell_type": "code",
   "execution_count": 14,
   "id": "18a50b42",
   "metadata": {
    "execution": {
     "iopub.execute_input": "2022-02-08T01:09:20.136509Z",
     "iopub.status.busy": "2022-02-08T01:09:20.135757Z",
     "iopub.status.idle": "2022-02-08T01:09:20.144091Z",
     "shell.execute_reply": "2022-02-08T01:09:20.144873Z",
     "shell.execute_reply.started": "2022-02-07T22:38:54.146658Z"
    },
    "papermill": {
     "duration": 0.080532,
     "end_time": "2022-02-08T01:09:20.145087",
     "exception": false,
     "start_time": "2022-02-08T01:09:20.064555",
     "status": "completed"
    },
    "tags": []
   },
   "outputs": [
    {
     "name": "stdout",
     "output_type": "stream",
     "text": [
      "Original Grocery List:\n",
      " eggs        2\n",
      "apples      6\n",
      "milk      Yes\n",
      "bread      No\n",
      "dtype: object\n",
      "\n",
      "Grocery List after removing apples in place:\n",
      " eggs       2\n",
      "milk     Yes\n",
      "bread     No\n",
      "dtype: object\n"
     ]
    }
   ],
   "source": [
    "# We can delete items from a pandas Series in place\n",
    "# by setting the keyword inplace to True in the .drop() method.\n",
    "\n",
    "# Delete elements in-place using drop()\n",
    "\n",
    "# We display the original grocery list\n",
    "print('Original Grocery List:\\n', groceries)\n",
    "\n",
    "# We remove apples from our grocery list in place by setting the inplace keyword to True\n",
    "groceries.drop('apples', inplace = True)\n",
    "\n",
    "# When we remove elements in place the original Series its modified. To see this\n",
    "# we display our grocery list again\n",
    "print()\n",
    "print('Grocery List after removing apples in place:\\n', groceries)\n"
   ]
  },
  {
   "cell_type": "code",
   "execution_count": 15,
   "id": "bf771a3b",
   "metadata": {
    "execution": {
     "iopub.execute_input": "2022-02-08T01:09:20.289639Z",
     "iopub.status.busy": "2022-02-08T01:09:20.288261Z",
     "iopub.status.idle": "2022-02-08T01:09:20.296441Z",
     "shell.execute_reply": "2022-02-08T01:09:20.297060Z",
     "shell.execute_reply.started": "2022-02-07T22:39:47.106989Z"
    },
    "papermill": {
     "duration": 0.083164,
     "end_time": "2022-02-08T01:09:20.297250",
     "exception": false,
     "start_time": "2022-02-08T01:09:20.214086",
     "status": "completed"
    },
    "tags": []
   },
   "outputs": [
    {
     "data": {
      "text/plain": [
       "apples     10\n",
       "oranges     6\n",
       "bananas     3\n",
       "dtype: int64"
      ]
     },
     "execution_count": 15,
     "metadata": {},
     "output_type": "execute_result"
    }
   ],
   "source": [
    "# We create a pandas Series that stores a grocery list of just fruits\n",
    "fruits= pd.Series(data = [10, 6, 3,], index = ['apples', 'oranges', 'bananas'])\n",
    "\n",
    "# We display the fruits pandas Series\n",
    "fruits"
   ]
  },
  {
   "cell_type": "code",
   "execution_count": 16,
   "id": "881b9dbd",
   "metadata": {
    "execution": {
     "iopub.execute_input": "2022-02-08T01:09:20.440382Z",
     "iopub.status.busy": "2022-02-08T01:09:20.439754Z",
     "iopub.status.idle": "2022-02-08T01:09:20.453480Z",
     "shell.execute_reply": "2022-02-08T01:09:20.452715Z",
     "shell.execute_reply.started": "2022-02-07T22:40:30.034368Z"
    },
    "papermill": {
     "duration": 0.085283,
     "end_time": "2022-02-08T01:09:20.453660",
     "exception": false,
     "start_time": "2022-02-08T01:09:20.368377",
     "status": "completed"
    },
    "tags": []
   },
   "outputs": [
    {
     "name": "stdout",
     "output_type": "stream",
     "text": [
      "Original grocery list of fruits:\n",
      "  apples     10\n",
      "oranges     6\n",
      "bananas     3\n",
      "dtype: int64\n",
      "\n",
      "fruits + 2:\n",
      " apples     12\n",
      "oranges     8\n",
      "bananas     5\n",
      "dtype: int64\n",
      "\n",
      "fruits - 2:\n",
      " apples     8\n",
      "oranges    4\n",
      "bananas    1\n",
      "dtype: int64\n",
      "\n",
      "fruits * 2:\n",
      " apples     20\n",
      "oranges    12\n",
      "bananas     6\n",
      "dtype: int64\n",
      "\n",
      "fruits / 2:\n",
      " apples     5.0\n",
      "oranges    3.0\n",
      "bananas    1.5\n",
      "dtype: float64\n",
      "\n"
     ]
    }
   ],
   "source": [
    "# We can now modify the data in fruits by performing basic arithmetic operations. \n",
    "# Element-wise basic arithmetic operations\n",
    "\n",
    "# We print fruits for reference\n",
    "print('Original grocery list of fruits:\\n ', fruits)\n",
    "\n",
    "# We perform basic element-wise operations using arithmetic symbols\n",
    "print()\n",
    "print('fruits + 2:\\n', fruits + 2) # We add 2 to each item in fruits\n",
    "print()\n",
    "print('fruits - 2:\\n', fruits - 2) # We subtract 2 to each item in fruits\n",
    "print()\n",
    "print('fruits * 2:\\n', fruits * 2) # We multiply each item in fruits by 2 \n",
    "print()\n",
    "print('fruits / 2:\\n', fruits / 2) # We divide each item in fruits by 2\n",
    "print()\n"
   ]
  },
  {
   "cell_type": "code",
   "execution_count": 17,
   "id": "6ee4bef9",
   "metadata": {
    "execution": {
     "iopub.execute_input": "2022-02-08T01:09:20.599429Z",
     "iopub.status.busy": "2022-02-08T01:09:20.598701Z",
     "iopub.status.idle": "2022-02-08T01:09:20.610942Z",
     "shell.execute_reply": "2022-02-08T01:09:20.611486Z",
     "shell.execute_reply.started": "2022-02-07T22:41:47.756629Z"
    },
    "papermill": {
     "duration": 0.084421,
     "end_time": "2022-02-08T01:09:20.611679",
     "exception": false,
     "start_time": "2022-02-08T01:09:20.527258",
     "status": "completed"
    },
    "tags": []
   },
   "outputs": [
    {
     "name": "stdout",
     "output_type": "stream",
     "text": [
      "Original grocery list of fruits:\n",
      " apples     10\n",
      "oranges     6\n",
      "bananas     3\n",
      "dtype: int64\n",
      "\n",
      "EXP(X) = \n",
      " apples     22026.465795\n",
      "oranges      403.428793\n",
      "bananas       20.085537\n",
      "dtype: float64\n",
      "\n",
      "SQRT(X) =\n",
      " apples     3.162278\n",
      "oranges    2.449490\n",
      "bananas    1.732051\n",
      "dtype: float64\n",
      "\n",
      "POW(X,2) =\n",
      " apples     100\n",
      "oranges     36\n",
      "bananas      9\n",
      "dtype: int64\n"
     ]
    }
   ],
   "source": [
    "# You can also apply mathematical functions from NumPy,\n",
    "# such assqrt(x), to all elements of a pandas Series.\n",
    "\n",
    "# Use mathematical functions from NumPy to operate on Series\n",
    "\n",
    "# We import NumPy as np to be able to use the mathematical functions\n",
    "import numpy as np\n",
    "\n",
    "# We print fruits for reference\n",
    "print('Original grocery list of fruits:\\n', fruits)\n",
    "\n",
    "# We apply different mathematical functions to all elements of fruits\n",
    "print()\n",
    "print('EXP(X) = \\n', np.exp(fruits))\n",
    "print() \n",
    "print('SQRT(X) =\\n', np.sqrt(fruits))\n",
    "print()\n",
    "print('POW(X,2) =\\n',np.power(fruits,2)) # We raise all elements of fruits to the power of 2\n"
   ]
  },
  {
   "cell_type": "code",
   "execution_count": 18,
   "id": "2d6e8705",
   "metadata": {
    "execution": {
     "iopub.execute_input": "2022-02-08T01:09:20.756503Z",
     "iopub.status.busy": "2022-02-08T01:09:20.755825Z",
     "iopub.status.idle": "2022-02-08T01:09:20.765348Z",
     "shell.execute_reply": "2022-02-08T01:09:20.765851Z",
     "shell.execute_reply.started": "2022-02-07T22:43:43.916407Z"
    },
    "papermill": {
     "duration": 0.086353,
     "end_time": "2022-02-08T01:09:20.766007",
     "exception": false,
     "start_time": "2022-02-08T01:09:20.679654",
     "status": "completed"
    },
    "tags": []
   },
   "outputs": [
    {
     "name": "stdout",
     "output_type": "stream",
     "text": [
      "Original grocery list of fruits:\n",
      "  apples     10\n",
      "oranges     6\n",
      "bananas     3\n",
      "dtype: int64\n",
      "\n",
      "Amount of bananas + 2 =  5\n",
      "\n",
      "Amount of apples - 2 =  8\n",
      "\n",
      "We double the amount of apples and oranges:\n",
      " apples     20\n",
      "oranges    12\n",
      "dtype: int64\n",
      "\n",
      "We half the amount of apples and oranges:\n",
      " apples     5.0\n",
      "oranges    3.0\n",
      "dtype: float64\n",
      "Original grocery list of fruits:\n",
      "  apples     10\n",
      "oranges     6\n",
      "bananas     3\n",
      "dtype: int64\n"
     ]
    }
   ],
   "source": [
    "# Pandas also allows us to only apply arithmetic operations \n",
    "# on selected items in our fruits grocery list. Let's see some examples\n",
    "\n",
    "# Perform arithmetic operations on selected elements\n",
    "\n",
    "# We print fruits for reference\n",
    "print('Original grocery list of fruits:\\n ', fruits)\n",
    "print()\n",
    "\n",
    "# We add 2 only to the bananas\n",
    "print('Amount of bananas + 2 = ', fruits['bananas'] + 2)\n",
    "print()\n",
    "\n",
    "# We subtract 2 from apples\n",
    "print('Amount of apples - 2 = ', fruits.iloc[0] - 2)\n",
    "print()\n",
    "\n",
    "# We multiply apples and oranges by 2\n",
    "print('We double the amount of apples and oranges:\\n', fruits[['apples', 'oranges']] * 2)\n",
    "print()\n",
    "\n",
    "# We divide apples and oranges by 2\n",
    "print('We half the amount of apples and oranges:\\n', fruits.loc[['apples', 'oranges']] / 2)\n",
    "\n",
    "print('Original grocery list of fruits:\\n ', fruits)\n"
   ]
  },
  {
   "cell_type": "code",
   "execution_count": 19,
   "id": "081e413f",
   "metadata": {
    "execution": {
     "iopub.execute_input": "2022-02-08T01:09:20.902775Z",
     "iopub.status.busy": "2022-02-08T01:09:20.901990Z",
     "iopub.status.idle": "2022-02-08T01:09:20.910708Z",
     "shell.execute_reply": "2022-02-08T01:09:20.911279Z",
     "shell.execute_reply.started": "2022-02-07T22:46:07.694216Z"
    },
    "papermill": {
     "duration": 0.079771,
     "end_time": "2022-02-08T01:09:20.911434",
     "exception": false,
     "start_time": "2022-02-08T01:09:20.831663",
     "status": "completed"
    },
    "tags": []
   },
   "outputs": [
    {
     "name": "stdout",
     "output_type": "stream",
     "text": [
      "Original Grocery List:\n",
      " eggs       2\n",
      "milk     Yes\n",
      "bread     No\n",
      "dtype: object\n"
     ]
    },
    {
     "data": {
      "text/plain": [
       "eggs          4\n",
       "milk     YesYes\n",
       "bread      NoNo\n",
       "dtype: object"
      ]
     },
     "execution_count": 19,
     "metadata": {},
     "output_type": "execute_result"
    }
   ],
   "source": [
    "# Perform multiplication on a Series having integer and string elements\n",
    "\n",
    "# We display the original grocery list\n",
    "print('Original Grocery List:\\n', groceries)\n",
    "\n",
    "# We multiply our grocery list by 2\n",
    "groceries * 2\n"
   ]
  },
  {
   "cell_type": "code",
   "execution_count": 20,
   "id": "0e754f85",
   "metadata": {
    "execution": {
     "iopub.execute_input": "2022-02-08T01:09:21.049851Z",
     "iopub.status.busy": "2022-02-08T01:09:21.049171Z",
     "iopub.status.idle": "2022-02-08T01:09:21.051212Z",
     "shell.execute_reply": "2022-02-08T01:09:21.051761Z",
     "shell.execute_reply.started": "2022-02-07T22:54:26.280009Z"
    },
    "papermill": {
     "duration": 0.074529,
     "end_time": "2022-02-08T01:09:21.051920",
     "exception": false,
     "start_time": "2022-02-08T01:09:20.977391",
     "status": "completed"
    },
    "tags": []
   },
   "outputs": [],
   "source": [
    "# Create a DataFrame manually\n",
    "\n",
    "# We will start by creating a DataFrame manually from a dictionary of pandas Series.\n",
    "# It is a two-step process:\n",
    "\n",
    "#    The first step is to create the dictionary of pandas Series.\n",
    "#    After the dictionary is created we can \n",
    "#    then pass the dictionary to the pd.DataFrame() function.\n"
   ]
  },
  {
   "cell_type": "code",
   "execution_count": 21,
   "id": "cbee2e1d",
   "metadata": {
    "execution": {
     "iopub.execute_input": "2022-02-08T01:09:21.188852Z",
     "iopub.status.busy": "2022-02-08T01:09:21.188193Z",
     "iopub.status.idle": "2022-02-08T01:09:21.208138Z",
     "shell.execute_reply": "2022-02-08T01:09:21.207514Z",
     "shell.execute_reply.started": "2022-02-07T22:55:40.099742Z"
    },
    "papermill": {
     "duration": 0.090013,
     "end_time": "2022-02-08T01:09:21.208322",
     "exception": false,
     "start_time": "2022-02-08T01:09:21.118309",
     "status": "completed"
    },
    "tags": []
   },
   "outputs": [
    {
     "name": "stdout",
     "output_type": "stream",
     "text": [
      "<class 'dict'>\n"
     ]
    },
    {
     "data": {
      "text/html": [
       "<div>\n",
       "<style scoped>\n",
       "    .dataframe tbody tr th:only-of-type {\n",
       "        vertical-align: middle;\n",
       "    }\n",
       "\n",
       "    .dataframe tbody tr th {\n",
       "        vertical-align: top;\n",
       "    }\n",
       "\n",
       "    .dataframe thead th {\n",
       "        text-align: right;\n",
       "    }\n",
       "</style>\n",
       "<table border=\"1\" class=\"dataframe\">\n",
       "  <thead>\n",
       "    <tr style=\"text-align: right;\">\n",
       "      <th></th>\n",
       "      <th>Bob</th>\n",
       "      <th>Alice</th>\n",
       "    </tr>\n",
       "  </thead>\n",
       "  <tbody>\n",
       "    <tr>\n",
       "      <th>bike</th>\n",
       "      <td>245.0</td>\n",
       "      <td>500.0</td>\n",
       "    </tr>\n",
       "    <tr>\n",
       "      <th>book</th>\n",
       "      <td>NaN</td>\n",
       "      <td>40.0</td>\n",
       "    </tr>\n",
       "    <tr>\n",
       "      <th>glasses</th>\n",
       "      <td>NaN</td>\n",
       "      <td>110.0</td>\n",
       "    </tr>\n",
       "    <tr>\n",
       "      <th>pants</th>\n",
       "      <td>25.0</td>\n",
       "      <td>45.0</td>\n",
       "    </tr>\n",
       "    <tr>\n",
       "      <th>watch</th>\n",
       "      <td>55.0</td>\n",
       "      <td>NaN</td>\n",
       "    </tr>\n",
       "  </tbody>\n",
       "</table>\n",
       "</div>"
      ],
      "text/plain": [
       "           Bob  Alice\n",
       "bike     245.0  500.0\n",
       "book       NaN   40.0\n",
       "glasses    NaN  110.0\n",
       "pants     25.0   45.0\n",
       "watch     55.0    NaN"
      ]
     },
     "execution_count": 21,
     "metadata": {},
     "output_type": "execute_result"
    }
   ],
   "source": [
    "# We import pandas as pd into Python\n",
    "import pandas as pd\n",
    "\n",
    "# We create a dictionary of pandas Series \n",
    "items = {'Bob' : pd.Series(data = [245, 25, 55], index = ['bike', 'pants', 'watch']),\n",
    "         'Alice' : pd.Series(data = [40, 110, 500, 45], index = ['book', 'glasses', 'bike', 'pants'])}\n",
    "\n",
    "# We print the type of items to see that it is a dictionary\n",
    "print(type(items))\n",
    "\n",
    "# We create a Pandas DataFrame by passing it a dictionary of Pandas Series\n",
    "shopping_carts = pd.DataFrame(items)\n",
    "\n",
    "# We display the DataFrame\n",
    "shopping_carts"
   ]
  },
  {
   "cell_type": "code",
   "execution_count": 22,
   "id": "16322712",
   "metadata": {
    "execution": {
     "iopub.execute_input": "2022-02-08T01:09:21.350984Z",
     "iopub.status.busy": "2022-02-08T01:09:21.350030Z",
     "iopub.status.idle": "2022-02-08T01:09:21.361495Z",
     "shell.execute_reply": "2022-02-08T01:09:21.362072Z",
     "shell.execute_reply.started": "2022-02-07T22:57:27.380787Z"
    },
    "papermill": {
     "duration": 0.084359,
     "end_time": "2022-02-08T01:09:21.362249",
     "exception": false,
     "start_time": "2022-02-08T01:09:21.277890",
     "status": "completed"
    },
    "tags": []
   },
   "outputs": [
    {
     "data": {
      "text/html": [
       "<div>\n",
       "<style scoped>\n",
       "    .dataframe tbody tr th:only-of-type {\n",
       "        vertical-align: middle;\n",
       "    }\n",
       "\n",
       "    .dataframe tbody tr th {\n",
       "        vertical-align: top;\n",
       "    }\n",
       "\n",
       "    .dataframe thead th {\n",
       "        text-align: right;\n",
       "    }\n",
       "</style>\n",
       "<table border=\"1\" class=\"dataframe\">\n",
       "  <thead>\n",
       "    <tr style=\"text-align: right;\">\n",
       "      <th></th>\n",
       "      <th>Bob</th>\n",
       "      <th>Alice</th>\n",
       "    </tr>\n",
       "  </thead>\n",
       "  <tbody>\n",
       "    <tr>\n",
       "      <th>0</th>\n",
       "      <td>245.0</td>\n",
       "      <td>40</td>\n",
       "    </tr>\n",
       "    <tr>\n",
       "      <th>1</th>\n",
       "      <td>25.0</td>\n",
       "      <td>110</td>\n",
       "    </tr>\n",
       "    <tr>\n",
       "      <th>2</th>\n",
       "      <td>55.0</td>\n",
       "      <td>500</td>\n",
       "    </tr>\n",
       "    <tr>\n",
       "      <th>3</th>\n",
       "      <td>NaN</td>\n",
       "      <td>45</td>\n",
       "    </tr>\n",
       "  </tbody>\n",
       "</table>\n",
       "</div>"
      ],
      "text/plain": [
       "     Bob  Alice\n",
       "0  245.0     40\n",
       "1   25.0    110\n",
       "2   55.0    500\n",
       "3    NaN     45"
      ]
     },
     "execution_count": 22,
     "metadata": {},
     "output_type": "execute_result"
    }
   ],
   "source": [
    "# DataFrame assigns the numerical row indexes by default.\n",
    "\n",
    "# We create a dictionary of pandas Series without indexes\n",
    "data = {'Bob' : pd.Series([245, 25, 55]),\n",
    "        'Alice' : pd.Series([40, 110, 500, 45])}\n",
    "\n",
    "# We create a DataFrame\n",
    "df = pd.DataFrame(data)\n",
    "\n",
    "# We display the DataFrame\n",
    "df\n"
   ]
  },
  {
   "cell_type": "code",
   "execution_count": 23,
   "id": "f9e92da7",
   "metadata": {
    "execution": {
     "iopub.execute_input": "2022-02-08T01:09:21.502895Z",
     "iopub.status.busy": "2022-02-08T01:09:21.502229Z",
     "iopub.status.idle": "2022-02-08T01:09:21.512784Z",
     "shell.execute_reply": "2022-02-08T01:09:21.513696Z",
     "shell.execute_reply.started": "2022-02-07T22:58:48.340063Z"
    },
    "papermill": {
     "duration": 0.081691,
     "end_time": "2022-02-08T01:09:21.513939",
     "exception": false,
     "start_time": "2022-02-08T01:09:21.432248",
     "status": "completed"
    },
    "tags": []
   },
   "outputs": [
    {
     "name": "stdout",
     "output_type": "stream",
     "text": [
      "           Bob  Alice\n",
      "bike     245.0  500.0\n",
      "book       NaN   40.0\n",
      "glasses    NaN  110.0\n",
      "pants     25.0   45.0\n",
      "watch     55.0    NaN\n",
      "shopping_carts has shape: (5, 2)\n",
      "shopping_carts has dimension: 2\n",
      "shopping_carts has a total of: 10 elements\n",
      "\n",
      "The data in shopping_carts is:\n",
      " [[245. 500.]\n",
      " [ nan  40.]\n",
      " [ nan 110.]\n",
      " [ 25.  45.]\n",
      " [ 55.  nan]]\n",
      "\n",
      "The row index in shopping_carts is: Index(['bike', 'book', 'glasses', 'pants', 'watch'], dtype='object')\n",
      "\n",
      "The column index in shopping_carts is: Index(['Bob', 'Alice'], dtype='object')\n"
     ]
    }
   ],
   "source": [
    "# Demonstrate a few attributes of DataFrame\n",
    "\n",
    "# We display the DataFrame\n",
    "print(shopping_carts)\n",
    "\n",
    "# We print some information about shopping_carts\n",
    "print('shopping_carts has shape:', shopping_carts.shape)\n",
    "print('shopping_carts has dimension:', shopping_carts.ndim)\n",
    "print('shopping_carts has a total of:', shopping_carts.size, 'elements')\n",
    "print()\n",
    "print('The data in shopping_carts is:\\n', shopping_carts.values)\n",
    "print()\n",
    "print('The row index in shopping_carts is:', shopping_carts.index)\n",
    "print()\n",
    "print('The column index in shopping_carts is:', shopping_carts.columns)\n"
   ]
  },
  {
   "cell_type": "code",
   "execution_count": 24,
   "id": "ee3aaaf6",
   "metadata": {
    "execution": {
     "iopub.execute_input": "2022-02-08T01:09:21.658186Z",
     "iopub.status.busy": "2022-02-08T01:09:21.657516Z",
     "iopub.status.idle": "2022-02-08T01:09:21.670106Z",
     "shell.execute_reply": "2022-02-08T01:09:21.670796Z",
     "shell.execute_reply.started": "2022-02-07T23:01:30.490461Z"
    },
    "papermill": {
     "duration": 0.084789,
     "end_time": "2022-02-08T01:09:21.670964",
     "exception": false,
     "start_time": "2022-02-08T01:09:21.586175",
     "status": "completed"
    },
    "tags": []
   },
   "outputs": [
    {
     "name": "stdout",
     "output_type": "stream",
     "text": [
      "<class 'dict'>\n"
     ]
    },
    {
     "data": {
      "text/html": [
       "<div>\n",
       "<style scoped>\n",
       "    .dataframe tbody tr th:only-of-type {\n",
       "        vertical-align: middle;\n",
       "    }\n",
       "\n",
       "    .dataframe tbody tr th {\n",
       "        vertical-align: top;\n",
       "    }\n",
       "\n",
       "    .dataframe thead th {\n",
       "        text-align: right;\n",
       "    }\n",
       "</style>\n",
       "<table border=\"1\" class=\"dataframe\">\n",
       "  <thead>\n",
       "    <tr style=\"text-align: right;\">\n",
       "      <th></th>\n",
       "      <th>Bob</th>\n",
       "    </tr>\n",
       "  </thead>\n",
       "  <tbody>\n",
       "    <tr>\n",
       "      <th>bike</th>\n",
       "      <td>245</td>\n",
       "    </tr>\n",
       "    <tr>\n",
       "      <th>pants</th>\n",
       "      <td>25</td>\n",
       "    </tr>\n",
       "    <tr>\n",
       "      <th>watch</th>\n",
       "      <td>55</td>\n",
       "    </tr>\n",
       "  </tbody>\n",
       "</table>\n",
       "</div>"
      ],
      "text/plain": [
       "       Bob\n",
       "bike   245\n",
       "pants   25\n",
       "watch   55"
      ]
     },
     "execution_count": 24,
     "metadata": {},
     "output_type": "execute_result"
    }
   ],
   "source": [
    "# We create a dictionary of pandas Series \n",
    "items = {'Bob' : pd.Series(data = [245, 25, 55], index = ['bike', 'pants', 'watch']),\n",
    "         'Alice' : pd.Series(data = [40, 110, 500, 45], index = ['book', 'glasses', 'bike', 'pants'])}\n",
    "\n",
    "# We print the type of items to see that it is a dictionary\n",
    "print(type(items))\n",
    "\n",
    "# We Create a DataFrame that only has Bob's data\n",
    "bob_shopping_cart = pd.DataFrame(items, columns=['Bob'])\n",
    "\n",
    "# We display bob_shopping_cart\n",
    "bob_shopping_cart"
   ]
  },
  {
   "cell_type": "code",
   "execution_count": 25,
   "id": "a347d3f0",
   "metadata": {
    "execution": {
     "iopub.execute_input": "2022-02-08T01:09:21.811134Z",
     "iopub.status.busy": "2022-02-08T01:09:21.810505Z",
     "iopub.status.idle": "2022-02-08T01:09:21.821713Z",
     "shell.execute_reply": "2022-02-08T01:09:21.822260Z",
     "shell.execute_reply.started": "2022-02-07T23:02:27.071025Z"
    },
    "papermill": {
     "duration": 0.082583,
     "end_time": "2022-02-08T01:09:21.822438",
     "exception": false,
     "start_time": "2022-02-08T01:09:21.739855",
     "status": "completed"
    },
    "tags": []
   },
   "outputs": [
    {
     "data": {
      "text/html": [
       "<div>\n",
       "<style scoped>\n",
       "    .dataframe tbody tr th:only-of-type {\n",
       "        vertical-align: middle;\n",
       "    }\n",
       "\n",
       "    .dataframe tbody tr th {\n",
       "        vertical-align: top;\n",
       "    }\n",
       "\n",
       "    .dataframe thead th {\n",
       "        text-align: right;\n",
       "    }\n",
       "</style>\n",
       "<table border=\"1\" class=\"dataframe\">\n",
       "  <thead>\n",
       "    <tr style=\"text-align: right;\">\n",
       "      <th></th>\n",
       "      <th>Bob</th>\n",
       "      <th>Alice</th>\n",
       "    </tr>\n",
       "  </thead>\n",
       "  <tbody>\n",
       "    <tr>\n",
       "      <th>pants</th>\n",
       "      <td>25.0</td>\n",
       "      <td>45</td>\n",
       "    </tr>\n",
       "    <tr>\n",
       "      <th>book</th>\n",
       "      <td>NaN</td>\n",
       "      <td>40</td>\n",
       "    </tr>\n",
       "  </tbody>\n",
       "</table>\n",
       "</div>"
      ],
      "text/plain": [
       "        Bob  Alice\n",
       "pants  25.0     45\n",
       "book    NaN     40"
      ]
     },
     "execution_count": 25,
     "metadata": {},
     "output_type": "execute_result"
    }
   ],
   "source": [
    " # Selecting specific rows of a DataFrame\n",
    "\n",
    "    # We create a dictionary of pandas Series \n",
    "items = {'Bob' : pd.Series(data = [245, 25, 55], index = ['bike', 'pants', 'watch']),\n",
    "         'Alice' : pd.Series(data = [40, 110, 500, 45], index = ['book', 'glasses', 'bike', 'pants'])}\n",
    "\n",
    "# We Create a DataFrame that only has selected items for both Alice and Bob\n",
    "sel_shopping_cart = pd.DataFrame(items, index = ['pants', 'book'])\n",
    "\n",
    "# We display sel_shopping_cart\n",
    "sel_shopping_cart\n"
   ]
  },
  {
   "cell_type": "code",
   "execution_count": 26,
   "id": "4f7b6017",
   "metadata": {
    "execution": {
     "iopub.execute_input": "2022-02-08T01:09:21.971394Z",
     "iopub.status.busy": "2022-02-08T01:09:21.970666Z",
     "iopub.status.idle": "2022-02-08T01:09:21.973262Z",
     "shell.execute_reply": "2022-02-08T01:09:21.973799Z",
     "shell.execute_reply.started": "2022-02-07T23:03:52.940157Z"
    },
    "papermill": {
     "duration": 0.083328,
     "end_time": "2022-02-08T01:09:21.973963",
     "exception": false,
     "start_time": "2022-02-08T01:09:21.890635",
     "status": "completed"
    },
    "tags": []
   },
   "outputs": [
    {
     "data": {
      "text/html": [
       "<div>\n",
       "<style scoped>\n",
       "    .dataframe tbody tr th:only-of-type {\n",
       "        vertical-align: middle;\n",
       "    }\n",
       "\n",
       "    .dataframe tbody tr th {\n",
       "        vertical-align: top;\n",
       "    }\n",
       "\n",
       "    .dataframe thead th {\n",
       "        text-align: right;\n",
       "    }\n",
       "</style>\n",
       "<table border=\"1\" class=\"dataframe\">\n",
       "  <thead>\n",
       "    <tr style=\"text-align: right;\">\n",
       "      <th></th>\n",
       "      <th>Alice</th>\n",
       "    </tr>\n",
       "  </thead>\n",
       "  <tbody>\n",
       "    <tr>\n",
       "      <th>glasses</th>\n",
       "      <td>110</td>\n",
       "    </tr>\n",
       "    <tr>\n",
       "      <th>bike</th>\n",
       "      <td>500</td>\n",
       "    </tr>\n",
       "  </tbody>\n",
       "</table>\n",
       "</div>"
      ],
      "text/plain": [
       "         Alice\n",
       "glasses    110\n",
       "bike       500"
      ]
     },
     "execution_count": 26,
     "metadata": {},
     "output_type": "execute_result"
    }
   ],
   "source": [
    " # Selecting specific columns of a DataFrame\n",
    "\n",
    " # We create a dictionary of pandas Series \n",
    "items = {'Bob' : pd.Series(data = [245, 25, 55], index = ['bike', 'pants', 'watch']),\n",
    "         'Alice' : pd.Series(data = [40, 110, 500, 45], index = ['book', 'glasses', 'bike', 'pants'])}\n",
    "\n",
    "# We Create a DataFrame that only has selected items for Alice\n",
    "alice_sel_shopping_cart = pd.DataFrame(items, index = ['glasses', 'bike'], columns = ['Alice'])\n",
    "\n",
    "# We display alice_sel_shopping_cart\n",
    "alice_sel_shopping_cart\n"
   ]
  },
  {
   "cell_type": "code",
   "execution_count": 27,
   "id": "5d67b05a",
   "metadata": {
    "execution": {
     "iopub.execute_input": "2022-02-08T01:09:22.116915Z",
     "iopub.status.busy": "2022-02-08T01:09:22.116282Z",
     "iopub.status.idle": "2022-02-08T01:09:22.125299Z",
     "shell.execute_reply": "2022-02-08T01:09:22.125803Z",
     "shell.execute_reply.started": "2022-02-07T23:05:13.849296Z"
    },
    "papermill": {
     "duration": 0.082408,
     "end_time": "2022-02-08T01:09:22.125956",
     "exception": false,
     "start_time": "2022-02-08T01:09:22.043548",
     "status": "completed"
    },
    "tags": []
   },
   "outputs": [
    {
     "data": {
      "text/html": [
       "<div>\n",
       "<style scoped>\n",
       "    .dataframe tbody tr th:only-of-type {\n",
       "        vertical-align: middle;\n",
       "    }\n",
       "\n",
       "    .dataframe tbody tr th {\n",
       "        vertical-align: top;\n",
       "    }\n",
       "\n",
       "    .dataframe thead th {\n",
       "        text-align: right;\n",
       "    }\n",
       "</style>\n",
       "<table border=\"1\" class=\"dataframe\">\n",
       "  <thead>\n",
       "    <tr style=\"text-align: right;\">\n",
       "      <th></th>\n",
       "      <th>Integers</th>\n",
       "      <th>Floats</th>\n",
       "    </tr>\n",
       "  </thead>\n",
       "  <tbody>\n",
       "    <tr>\n",
       "      <th>0</th>\n",
       "      <td>1</td>\n",
       "      <td>4.5</td>\n",
       "    </tr>\n",
       "    <tr>\n",
       "      <th>1</th>\n",
       "      <td>2</td>\n",
       "      <td>8.2</td>\n",
       "    </tr>\n",
       "    <tr>\n",
       "      <th>2</th>\n",
       "      <td>3</td>\n",
       "      <td>9.6</td>\n",
       "    </tr>\n",
       "  </tbody>\n",
       "</table>\n",
       "</div>"
      ],
      "text/plain": [
       "   Integers  Floats\n",
       "0         1     4.5\n",
       "1         2     8.2\n",
       "2         3     9.6"
      ]
     },
     "execution_count": 27,
     "metadata": {},
     "output_type": "execute_result"
    }
   ],
   "source": [
    "# Create a DataFrame using a dictionary of lists\n",
    "\n",
    "# We create a dictionary of lists (arrays)\n",
    "data = {'Integers' : [1,2,3],\n",
    "        'Floats' : [4.5, 8.2, 9.6]}\n",
    "\n",
    "# We create a DataFrame \n",
    "df = pd.DataFrame(data)\n",
    "\n",
    "# We display the DataFrame\n",
    "df\n"
   ]
  },
  {
   "cell_type": "code",
   "execution_count": 28,
   "id": "b7cca06b",
   "metadata": {
    "execution": {
     "iopub.execute_input": "2022-02-08T01:09:22.268769Z",
     "iopub.status.busy": "2022-02-08T01:09:22.267763Z",
     "iopub.status.idle": "2022-02-08T01:09:22.278597Z",
     "shell.execute_reply": "2022-02-08T01:09:22.279185Z",
     "shell.execute_reply.started": "2022-02-07T23:05:51.787129Z"
    },
    "papermill": {
     "duration": 0.084321,
     "end_time": "2022-02-08T01:09:22.279366",
     "exception": false,
     "start_time": "2022-02-08T01:09:22.195045",
     "status": "completed"
    },
    "tags": []
   },
   "outputs": [
    {
     "data": {
      "text/html": [
       "<div>\n",
       "<style scoped>\n",
       "    .dataframe tbody tr th:only-of-type {\n",
       "        vertical-align: middle;\n",
       "    }\n",
       "\n",
       "    .dataframe tbody tr th {\n",
       "        vertical-align: top;\n",
       "    }\n",
       "\n",
       "    .dataframe thead th {\n",
       "        text-align: right;\n",
       "    }\n",
       "</style>\n",
       "<table border=\"1\" class=\"dataframe\">\n",
       "  <thead>\n",
       "    <tr style=\"text-align: right;\">\n",
       "      <th></th>\n",
       "      <th>Integers</th>\n",
       "      <th>Floats</th>\n",
       "    </tr>\n",
       "  </thead>\n",
       "  <tbody>\n",
       "    <tr>\n",
       "      <th>label 1</th>\n",
       "      <td>1</td>\n",
       "      <td>4.5</td>\n",
       "    </tr>\n",
       "    <tr>\n",
       "      <th>label 2</th>\n",
       "      <td>2</td>\n",
       "      <td>8.2</td>\n",
       "    </tr>\n",
       "    <tr>\n",
       "      <th>label 3</th>\n",
       "      <td>3</td>\n",
       "      <td>9.6</td>\n",
       "    </tr>\n",
       "  </tbody>\n",
       "</table>\n",
       "</div>"
      ],
      "text/plain": [
       "         Integers  Floats\n",
       "label 1         1     4.5\n",
       "label 2         2     8.2\n",
       "label 3         3     9.6"
      ]
     },
     "execution_count": 28,
     "metadata": {},
     "output_type": "execute_result"
    }
   ],
   "source": [
    "#  Create a DataFrame using a dictionary of lists, and custom row-indexes (labels)\n",
    "\n",
    "# We create a dictionary of lists (arrays)\n",
    "data = {'Integers' : [1,2,3],\n",
    "        'Floats' : [4.5, 8.2, 9.6]}\n",
    "\n",
    "# We create a DataFrame and provide the row index\n",
    "df = pd.DataFrame(data, index = ['label 1', 'label 2', 'label 3'])\n",
    "\n",
    "# We display the DataFrame\n",
    "df\n"
   ]
  },
  {
   "cell_type": "code",
   "execution_count": 29,
   "id": "98d4ebf7",
   "metadata": {
    "execution": {
     "iopub.execute_input": "2022-02-08T01:09:22.423385Z",
     "iopub.status.busy": "2022-02-08T01:09:22.422398Z",
     "iopub.status.idle": "2022-02-08T01:09:22.433291Z",
     "shell.execute_reply": "2022-02-08T01:09:22.433729Z",
     "shell.execute_reply.started": "2022-02-07T23:07:02.878913Z"
    },
    "papermill": {
     "duration": 0.085079,
     "end_time": "2022-02-08T01:09:22.433893",
     "exception": false,
     "start_time": "2022-02-08T01:09:22.348814",
     "status": "completed"
    },
    "tags": []
   },
   "outputs": [
    {
     "data": {
      "text/html": [
       "<div>\n",
       "<style scoped>\n",
       "    .dataframe tbody tr th:only-of-type {\n",
       "        vertical-align: middle;\n",
       "    }\n",
       "\n",
       "    .dataframe tbody tr th {\n",
       "        vertical-align: top;\n",
       "    }\n",
       "\n",
       "    .dataframe thead th {\n",
       "        text-align: right;\n",
       "    }\n",
       "</style>\n",
       "<table border=\"1\" class=\"dataframe\">\n",
       "  <thead>\n",
       "    <tr style=\"text-align: right;\">\n",
       "      <th></th>\n",
       "      <th>bikes</th>\n",
       "      <th>pants</th>\n",
       "      <th>watches</th>\n",
       "      <th>glasses</th>\n",
       "    </tr>\n",
       "  </thead>\n",
       "  <tbody>\n",
       "    <tr>\n",
       "      <th>0</th>\n",
       "      <td>20</td>\n",
       "      <td>30</td>\n",
       "      <td>35</td>\n",
       "      <td>NaN</td>\n",
       "    </tr>\n",
       "    <tr>\n",
       "      <th>1</th>\n",
       "      <td>15</td>\n",
       "      <td>5</td>\n",
       "      <td>10</td>\n",
       "      <td>50.0</td>\n",
       "    </tr>\n",
       "  </tbody>\n",
       "</table>\n",
       "</div>"
      ],
      "text/plain": [
       "   bikes  pants  watches  glasses\n",
       "0     20     30       35      NaN\n",
       "1     15      5       10     50.0"
      ]
     },
     "execution_count": 29,
     "metadata": {},
     "output_type": "execute_result"
    }
   ],
   "source": [
    "#  Create a DataFrame using a of list of dictionaries\n",
    "\n",
    "# We create a list of Python dictionaries\n",
    "items2 = [{'bikes': 20, 'pants': 30, 'watches': 35}, \n",
    "          {'watches': 10, 'glasses': 50, 'bikes': 15, 'pants':5}]\n",
    "\n",
    "# We create a DataFrame \n",
    "store_items = pd.DataFrame(items2)\n",
    "\n",
    "# We display the DataFrame\n",
    "store_items\n"
   ]
  },
  {
   "cell_type": "code",
   "execution_count": 30,
   "id": "8595daad",
   "metadata": {
    "execution": {
     "iopub.execute_input": "2022-02-08T01:09:22.577814Z",
     "iopub.status.busy": "2022-02-08T01:09:22.577107Z",
     "iopub.status.idle": "2022-02-08T01:09:22.588012Z",
     "shell.execute_reply": "2022-02-08T01:09:22.588554Z",
     "shell.execute_reply.started": "2022-02-07T23:09:14.187344Z"
    },
    "papermill": {
     "duration": 0.085112,
     "end_time": "2022-02-08T01:09:22.588716",
     "exception": false,
     "start_time": "2022-02-08T01:09:22.503604",
     "status": "completed"
    },
    "tags": []
   },
   "outputs": [
    {
     "data": {
      "text/html": [
       "<div>\n",
       "<style scoped>\n",
       "    .dataframe tbody tr th:only-of-type {\n",
       "        vertical-align: middle;\n",
       "    }\n",
       "\n",
       "    .dataframe tbody tr th {\n",
       "        vertical-align: top;\n",
       "    }\n",
       "\n",
       "    .dataframe thead th {\n",
       "        text-align: right;\n",
       "    }\n",
       "</style>\n",
       "<table border=\"1\" class=\"dataframe\">\n",
       "  <thead>\n",
       "    <tr style=\"text-align: right;\">\n",
       "      <th></th>\n",
       "      <th>bikes</th>\n",
       "      <th>pants</th>\n",
       "      <th>watches</th>\n",
       "      <th>glasses</th>\n",
       "    </tr>\n",
       "  </thead>\n",
       "  <tbody>\n",
       "    <tr>\n",
       "      <th>store 1</th>\n",
       "      <td>20</td>\n",
       "      <td>30</td>\n",
       "      <td>35</td>\n",
       "      <td>NaN</td>\n",
       "    </tr>\n",
       "    <tr>\n",
       "      <th>store 2</th>\n",
       "      <td>15</td>\n",
       "      <td>5</td>\n",
       "      <td>10</td>\n",
       "      <td>50.0</td>\n",
       "    </tr>\n",
       "  </tbody>\n",
       "</table>\n",
       "</div>"
      ],
      "text/plain": [
       "         bikes  pants  watches  glasses\n",
       "store 1     20     30       35      NaN\n",
       "store 2     15      5       10     50.0"
      ]
     },
     "execution_count": 30,
     "metadata": {},
     "output_type": "execute_result"
    }
   ],
   "source": [
    "# Create a DataFrame using a of list of dictionaries, and custom row-indexes (labels)\n",
    "\n",
    "# We create a list of Python dictionaries\n",
    "items2 = [{'bikes': 20, 'pants': 30, 'watches': 35}, \n",
    "          {'watches': 10, 'glasses': 50, 'bikes': 15, 'pants':5}]\n",
    "\n",
    "# We create a DataFrame  and provide the row index\n",
    "store_items = pd.DataFrame(items2, index = ['store 1', 'store 2'])\n",
    "\n",
    "# We display the DataFrame\n",
    "store_items\n"
   ]
  },
  {
   "cell_type": "code",
   "execution_count": 31,
   "id": "2e928481",
   "metadata": {
    "execution": {
     "iopub.execute_input": "2022-02-08T01:09:22.735395Z",
     "iopub.status.busy": "2022-02-08T01:09:22.734393Z",
     "iopub.status.idle": "2022-02-08T01:09:22.752811Z",
     "shell.execute_reply": "2022-02-08T01:09:22.753784Z",
     "shell.execute_reply.started": "2022-02-07T23:09:58.591905Z"
    },
    "papermill": {
     "duration": 0.094036,
     "end_time": "2022-02-08T01:09:22.754029",
     "exception": false,
     "start_time": "2022-02-08T01:09:22.659993",
     "status": "completed"
    },
    "tags": []
   },
   "outputs": [
    {
     "name": "stdout",
     "output_type": "stream",
     "text": [
      "         bikes  pants  watches  glasses\n",
      "store 1     20     30       35      NaN\n",
      "store 2     15      5       10     50.0\n",
      "\n",
      "How many bikes are in each store:\n",
      "          bikes\n",
      "store 1     20\n",
      "store 2     15\n",
      "\n",
      "How many bikes and pants are in each store:\n",
      "          bikes  pants\n",
      "store 1     20     30\n",
      "store 2     15      5\n",
      "\n",
      "What items are in Store 1:\n",
      "          bikes  pants  watches  glasses\n",
      "store 1     20     30       35      NaN\n",
      "\n",
      "How many bikes are in Store 2: 15\n"
     ]
    }
   ],
   "source": [
    "# Access elements using labels\n",
    "\n",
    "# We print the store_items DataFrame\n",
    "print(store_items)\n",
    "\n",
    "# We access rows, columns and elements using labels\n",
    "print()\n",
    "print('How many bikes are in each store:\\n', store_items[['bikes']])\n",
    "print()\n",
    "print('How many bikes and pants are in each store:\\n', store_items[['bikes', 'pants']])\n",
    "print()\n",
    "print('What items are in Store 1:\\n', store_items.loc[['store 1']])\n",
    "print()\n",
    "print('How many bikes are in Store 2:', store_items['bikes']['store 2'])\n"
   ]
  },
  {
   "cell_type": "code",
   "execution_count": 32,
   "id": "14120822",
   "metadata": {
    "execution": {
     "iopub.execute_input": "2022-02-08T01:09:22.901153Z",
     "iopub.status.busy": "2022-02-08T01:09:22.900542Z",
     "iopub.status.idle": "2022-02-08T01:09:22.914879Z",
     "shell.execute_reply": "2022-02-08T01:09:22.913846Z",
     "shell.execute_reply.started": "2022-02-07T23:12:43.550915Z"
    },
    "papermill": {
     "duration": 0.088326,
     "end_time": "2022-02-08T01:09:22.915086",
     "exception": false,
     "start_time": "2022-02-08T01:09:22.826760",
     "status": "completed"
    },
    "tags": []
   },
   "outputs": [
    {
     "name": "stdout",
     "output_type": "stream",
     "text": [
      "         bikes  pants  watches  glasses\n",
      "store 1     20     30       35      NaN\n",
      "store 2     15      5       10     50.0\n"
     ]
    },
    {
     "data": {
      "text/html": [
       "<div>\n",
       "<style scoped>\n",
       "    .dataframe tbody tr th:only-of-type {\n",
       "        vertical-align: middle;\n",
       "    }\n",
       "\n",
       "    .dataframe tbody tr th {\n",
       "        vertical-align: top;\n",
       "    }\n",
       "\n",
       "    .dataframe thead th {\n",
       "        text-align: right;\n",
       "    }\n",
       "</style>\n",
       "<table border=\"1\" class=\"dataframe\">\n",
       "  <thead>\n",
       "    <tr style=\"text-align: right;\">\n",
       "      <th></th>\n",
       "      <th>bikes</th>\n",
       "      <th>pants</th>\n",
       "      <th>watches</th>\n",
       "      <th>glasses</th>\n",
       "      <th>shirts</th>\n",
       "    </tr>\n",
       "  </thead>\n",
       "  <tbody>\n",
       "    <tr>\n",
       "      <th>store 1</th>\n",
       "      <td>20</td>\n",
       "      <td>30</td>\n",
       "      <td>35</td>\n",
       "      <td>NaN</td>\n",
       "      <td>15</td>\n",
       "    </tr>\n",
       "    <tr>\n",
       "      <th>store 2</th>\n",
       "      <td>15</td>\n",
       "      <td>5</td>\n",
       "      <td>10</td>\n",
       "      <td>50.0</td>\n",
       "      <td>2</td>\n",
       "    </tr>\n",
       "  </tbody>\n",
       "</table>\n",
       "</div>"
      ],
      "text/plain": [
       "         bikes  pants  watches  glasses  shirts\n",
       "store 1     20     30       35      NaN      15\n",
       "store 2     15      5       10     50.0       2"
      ]
     },
     "execution_count": 32,
     "metadata": {},
     "output_type": "execute_result"
    }
   ],
   "source": [
    "# Add a column to an existing DataFrame\n",
    "\n",
    "# We print the store_items DataFrame\n",
    "print(store_items)\n",
    "\n",
    "# We add a new column named shirts to our store_items DataFrame indicating the number of\n",
    "# shirts in stock at each store. We will put 15 shirts in store 1 and 2 shirts in store 2\n",
    "store_items['shirts'] = [15,2]\n",
    "\n",
    "# We display the modified DataFrame\n",
    "store_items\n"
   ]
  },
  {
   "cell_type": "code",
   "execution_count": 33,
   "id": "549562ff",
   "metadata": {
    "execution": {
     "iopub.execute_input": "2022-02-08T01:09:23.068616Z",
     "iopub.status.busy": "2022-02-08T01:09:23.067651Z",
     "iopub.status.idle": "2022-02-08T01:09:23.078385Z",
     "shell.execute_reply": "2022-02-08T01:09:23.078888Z",
     "shell.execute_reply.started": "2022-02-07T23:13:26.309900Z"
    },
    "papermill": {
     "duration": 0.090602,
     "end_time": "2022-02-08T01:09:23.079052",
     "exception": false,
     "start_time": "2022-02-08T01:09:22.988450",
     "status": "completed"
    },
    "tags": []
   },
   "outputs": [
    {
     "name": "stdout",
     "output_type": "stream",
     "text": [
      "         bikes  pants  watches  glasses  shirts\n",
      "store 1     20     30       35      NaN      15\n",
      "store 2     15      5       10     50.0       2\n"
     ]
    },
    {
     "data": {
      "text/html": [
       "<div>\n",
       "<style scoped>\n",
       "    .dataframe tbody tr th:only-of-type {\n",
       "        vertical-align: middle;\n",
       "    }\n",
       "\n",
       "    .dataframe tbody tr th {\n",
       "        vertical-align: top;\n",
       "    }\n",
       "\n",
       "    .dataframe thead th {\n",
       "        text-align: right;\n",
       "    }\n",
       "</style>\n",
       "<table border=\"1\" class=\"dataframe\">\n",
       "  <thead>\n",
       "    <tr style=\"text-align: right;\">\n",
       "      <th></th>\n",
       "      <th>bikes</th>\n",
       "      <th>pants</th>\n",
       "      <th>watches</th>\n",
       "      <th>glasses</th>\n",
       "      <th>shirts</th>\n",
       "      <th>suits</th>\n",
       "    </tr>\n",
       "  </thead>\n",
       "  <tbody>\n",
       "    <tr>\n",
       "      <th>store 1</th>\n",
       "      <td>20</td>\n",
       "      <td>30</td>\n",
       "      <td>35</td>\n",
       "      <td>NaN</td>\n",
       "      <td>15</td>\n",
       "      <td>45</td>\n",
       "    </tr>\n",
       "    <tr>\n",
       "      <th>store 2</th>\n",
       "      <td>15</td>\n",
       "      <td>5</td>\n",
       "      <td>10</td>\n",
       "      <td>50.0</td>\n",
       "      <td>2</td>\n",
       "      <td>7</td>\n",
       "    </tr>\n",
       "  </tbody>\n",
       "</table>\n",
       "</div>"
      ],
      "text/plain": [
       "         bikes  pants  watches  glasses  shirts  suits\n",
       "store 1     20     30       35      NaN      15     45\n",
       "store 2     15      5       10     50.0       2      7"
      ]
     },
     "execution_count": 33,
     "metadata": {},
     "output_type": "execute_result"
    }
   ],
   "source": [
    "# Add a new column based on the arithmetic operation between existing columns of a DataFrame\n",
    "\n",
    "# We print the store_items DataFrame\n",
    "print(store_items)\n",
    "\n",
    "# We make a new column called suits by adding the number of shirts and pants\n",
    "store_items['suits'] = store_items['pants'] + store_items['shirts']\n",
    "\n",
    "# We display the modified DataFrame\n",
    "store_items\n"
   ]
  },
  {
   "cell_type": "code",
   "execution_count": 34,
   "id": "77939def",
   "metadata": {
    "execution": {
     "iopub.execute_input": "2022-02-08T01:09:23.226693Z",
     "iopub.status.busy": "2022-02-08T01:09:23.225780Z",
     "iopub.status.idle": "2022-02-08T01:09:23.236925Z",
     "shell.execute_reply": "2022-02-08T01:09:23.237471Z",
     "shell.execute_reply.started": "2022-02-07T23:15:40.689307Z"
    },
    "papermill": {
     "duration": 0.086576,
     "end_time": "2022-02-08T01:09:23.237660",
     "exception": false,
     "start_time": "2022-02-08T01:09:23.151084",
     "status": "completed"
    },
    "tags": []
   },
   "outputs": [
    {
     "name": "stdout",
     "output_type": "stream",
     "text": [
      "   bikes  pants  watches  glasses\n",
      "0     20     30       35        4\n",
      "         bikes  pants  watches  glasses\n",
      "store 3     20     30       35        4\n"
     ]
    }
   ],
   "source": [
    "# Create a row to be added to the DataFrame\n",
    "\n",
    "# We create a dictionary from a list of Python dictionaries that will contain the number of different items at the new store\n",
    "new_items = [{'bikes': 20, 'pants': 30, 'watches': 35, 'glasses': 4}]\n",
    "\n",
    "new_store = pd.DataFrame(new_items)\n",
    "\n",
    "print(new_store)\n",
    "# We create new DataFrame with the new_items and provide and index labeled store 3\n",
    "new_store = pd.DataFrame(new_items, index = ['store 3'])\n",
    "\n",
    "# We display the items at the new store\n",
    "print(new_store)\n"
   ]
  },
  {
   "cell_type": "code",
   "execution_count": 35,
   "id": "e190f06d",
   "metadata": {
    "execution": {
     "iopub.execute_input": "2022-02-08T01:09:23.388809Z",
     "iopub.status.busy": "2022-02-08T01:09:23.387836Z",
     "iopub.status.idle": "2022-02-08T01:09:23.401706Z",
     "shell.execute_reply": "2022-02-08T01:09:23.402202Z",
     "shell.execute_reply.started": "2022-02-07T23:17:58.991400Z"
    },
    "papermill": {
     "duration": 0.091217,
     "end_time": "2022-02-08T01:09:23.402378",
     "exception": false,
     "start_time": "2022-02-08T01:09:23.311161",
     "status": "completed"
    },
    "tags": []
   },
   "outputs": [
    {
     "name": "stdout",
     "output_type": "stream",
     "text": [
      "         bikes  pants  watches  glasses  shirts  suits\n",
      "store 1     20     30       35      NaN      15     45\n",
      "store 2     15      5       10     50.0       2      7\n",
      "\n",
      "         bikes  pants  watches  glasses\n",
      "store 3     20     30       35        4\n",
      "\n",
      "         bikes  pants  watches  glasses  shirts  suits\n",
      "store 1     20     30       35      NaN    15.0   45.0\n",
      "store 2     15      5       10     50.0     2.0    7.0\n",
      "store 3     20     30       35      4.0     NaN    NaN\n"
     ]
    }
   ],
   "source": [
    "# Append the row to the DataFrame\n",
    "\n",
    "print(store_items)\n",
    "print()\n",
    "\n",
    "print(new_store)\n",
    "print()\n",
    "# We append store 3 to our store_items DataFrame\n",
    "store_items = store_items.append(new_store)\n",
    "\n",
    "# We display the modified DataFrame\n",
    "print(store_items)\n"
   ]
  },
  {
   "cell_type": "code",
   "execution_count": 36,
   "id": "25fd38b2",
   "metadata": {
    "execution": {
     "iopub.execute_input": "2022-02-08T01:09:23.558522Z",
     "iopub.status.busy": "2022-02-08T01:09:23.553768Z",
     "iopub.status.idle": "2022-02-08T01:09:23.572351Z",
     "shell.execute_reply": "2022-02-08T01:09:23.572912Z",
     "shell.execute_reply.started": "2022-02-07T23:28:01.401609Z"
    },
    "papermill": {
     "duration": 0.095541,
     "end_time": "2022-02-08T01:09:23.573073",
     "exception": false,
     "start_time": "2022-02-08T01:09:23.477532",
     "status": "completed"
    },
    "tags": []
   },
   "outputs": [
    {
     "name": "stdout",
     "output_type": "stream",
     "text": [
      "         bikes  pants  watches  glasses  shirts  suits\n",
      "store 1     20     30       35      NaN    15.0   45.0\n",
      "store 2     15      5       10     50.0     2.0    7.0\n",
      "store 3     20     30       35      4.0     NaN    NaN\n",
      "\n",
      "store 1    35\n",
      "store 2    10\n",
      "store 3    35\n",
      "Name: watches, dtype: int64\n",
      "\n"
     ]
    },
    {
     "data": {
      "text/html": [
       "<div>\n",
       "<style scoped>\n",
       "    .dataframe tbody tr th:only-of-type {\n",
       "        vertical-align: middle;\n",
       "    }\n",
       "\n",
       "    .dataframe tbody tr th {\n",
       "        vertical-align: top;\n",
       "    }\n",
       "\n",
       "    .dataframe thead th {\n",
       "        text-align: right;\n",
       "    }\n",
       "</style>\n",
       "<table border=\"1\" class=\"dataframe\">\n",
       "  <thead>\n",
       "    <tr style=\"text-align: right;\">\n",
       "      <th></th>\n",
       "      <th>bikes</th>\n",
       "      <th>pants</th>\n",
       "      <th>watches</th>\n",
       "      <th>glasses</th>\n",
       "      <th>shirts</th>\n",
       "      <th>suits</th>\n",
       "      <th>new watches</th>\n",
       "    </tr>\n",
       "  </thead>\n",
       "  <tbody>\n",
       "    <tr>\n",
       "      <th>store 1</th>\n",
       "      <td>20</td>\n",
       "      <td>30</td>\n",
       "      <td>35</td>\n",
       "      <td>NaN</td>\n",
       "      <td>15.0</td>\n",
       "      <td>45.0</td>\n",
       "      <td>35</td>\n",
       "    </tr>\n",
       "    <tr>\n",
       "      <th>store 2</th>\n",
       "      <td>15</td>\n",
       "      <td>5</td>\n",
       "      <td>10</td>\n",
       "      <td>50.0</td>\n",
       "      <td>2.0</td>\n",
       "      <td>7.0</td>\n",
       "      <td>10</td>\n",
       "    </tr>\n",
       "    <tr>\n",
       "      <th>store 3</th>\n",
       "      <td>20</td>\n",
       "      <td>30</td>\n",
       "      <td>35</td>\n",
       "      <td>4.0</td>\n",
       "      <td>NaN</td>\n",
       "      <td>NaN</td>\n",
       "      <td>35</td>\n",
       "    </tr>\n",
       "  </tbody>\n",
       "</table>\n",
       "</div>"
      ],
      "text/plain": [
       "         bikes  pants  watches  glasses  shirts  suits  new watches\n",
       "store 1     20     30       35      NaN    15.0   45.0           35\n",
       "store 2     15      5       10     50.0     2.0    7.0           10\n",
       "store 3     20     30       35      4.0     NaN    NaN           35"
      ]
     },
     "execution_count": 36,
     "metadata": {},
     "output_type": "execute_result"
    }
   ],
   "source": [
    "#  Add new column that has data from the existing columns\n",
    "\n",
    "print(store_items)\n",
    "print()\n",
    "# We add a new column using data from particular rows in the watches column\n",
    "print(store_items['watches'][:])\n",
    "print()\n",
    "# We add a new column using data from particular rows in the watches column\n",
    "store_items['new watches'] = store_items['watches'][:]\n",
    "\n",
    "# We display the modified DataFrame\n",
    "store_items"
   ]
  },
  {
   "cell_type": "code",
   "execution_count": 37,
   "id": "eddd9315",
   "metadata": {
    "execution": {
     "iopub.execute_input": "2022-02-08T01:09:23.727528Z",
     "iopub.status.busy": "2022-02-08T01:09:23.726893Z",
     "iopub.status.idle": "2022-02-08T01:09:23.730335Z",
     "shell.execute_reply": "2022-02-08T01:09:23.729597Z",
     "shell.execute_reply.started": "2022-02-07T23:31:04.360131Z"
    },
    "papermill": {
     "duration": 0.082063,
     "end_time": "2022-02-08T01:09:23.730479",
     "exception": false,
     "start_time": "2022-02-08T01:09:23.648416",
     "status": "completed"
    },
    "tags": []
   },
   "outputs": [],
   "source": [
    "#  is also possible,\n",
    "# to insert new columns into the DataFrames anywhere we want.\n",
    "# The dataframe.insert(loc,label,data) method allows us \n",
    "# to insert a new column in the dataframe at \n",
    "# location loc,\n",
    "# with the given column label, \n",
    "# and given data."
   ]
  },
  {
   "cell_type": "code",
   "execution_count": 38,
   "id": "e56d46b0",
   "metadata": {
    "execution": {
     "iopub.execute_input": "2022-02-08T01:09:23.885990Z",
     "iopub.status.busy": "2022-02-08T01:09:23.885371Z",
     "iopub.status.idle": "2022-02-08T01:09:23.966799Z",
     "shell.execute_reply": "2022-02-08T01:09:23.965106Z",
     "shell.execute_reply.started": "2022-02-07T23:35:53.959902Z"
    },
    "papermill": {
     "duration": 0.160648,
     "end_time": "2022-02-08T01:09:23.967170",
     "exception": true,
     "start_time": "2022-02-08T01:09:23.806522",
     "status": "failed"
    },
    "tags": []
   },
   "outputs": [
    {
     "name": "stdout",
     "output_type": "stream",
     "text": [
      "         bikes  pants  watches  glasses  shirts  suits  new watches\n",
      "store 1     20     30       35      NaN    15.0   45.0           35\n",
      "store 2     15      5       10     50.0     2.0    7.0           10\n",
      "store 3     20     30       35      4.0     NaN    NaN           35\n",
      "\n"
     ]
    },
    {
     "ename": "ValueError",
     "evalue": "Length of values (5) does not match length of index (3)",
     "output_type": "error",
     "traceback": [
      "\u001b[0;31m---------------------------------------------------------------------------\u001b[0m",
      "\u001b[0;31mValueError\u001b[0m                                Traceback (most recent call last)",
      "\u001b[0;32m/tmp/ipykernel_19/4233642482.py\u001b[0m in \u001b[0;36m<module>\u001b[0;34m\u001b[0m\n\u001b[1;32m      5\u001b[0m \u001b[0mprint\u001b[0m\u001b[0;34m(\u001b[0m\u001b[0;34m)\u001b[0m\u001b[0;34m\u001b[0m\u001b[0;34m\u001b[0m\u001b[0m\n\u001b[1;32m      6\u001b[0m \u001b[0;31m# We insert a new column with label shoes right before the column with numerical index 4\u001b[0m\u001b[0;34m\u001b[0m\u001b[0;34m\u001b[0m\u001b[0;34m\u001b[0m\u001b[0m\n\u001b[0;32m----> 7\u001b[0;31m \u001b[0mstore_items\u001b[0m\u001b[0;34m.\u001b[0m\u001b[0minsert\u001b[0m\u001b[0;34m(\u001b[0m\u001b[0;36m4\u001b[0m\u001b[0;34m,\u001b[0m\u001b[0;34m'shoes'\u001b[0m\u001b[0;34m,\u001b[0m\u001b[0;34m[\u001b[0m\u001b[0;36m8\u001b[0m\u001b[0;34m,\u001b[0m\u001b[0;36m5\u001b[0m\u001b[0;34m,\u001b[0m\u001b[0;36m5\u001b[0m\u001b[0;34m,\u001b[0m\u001b[0;36m9\u001b[0m\u001b[0;34m,\u001b[0m\u001b[0;36m0\u001b[0m\u001b[0;34m]\u001b[0m\u001b[0;34m)\u001b[0m\u001b[0;34m\u001b[0m\u001b[0;34m\u001b[0m\u001b[0m\n\u001b[0m\u001b[1;32m      8\u001b[0m \u001b[0;34m\u001b[0m\u001b[0m\n\u001b[1;32m      9\u001b[0m \u001b[0;31m# we display the modified DataFrame\u001b[0m\u001b[0;34m\u001b[0m\u001b[0;34m\u001b[0m\u001b[0;34m\u001b[0m\u001b[0m\n",
      "\u001b[0;32m/opt/conda/lib/python3.7/site-packages/pandas/core/frame.py\u001b[0m in \u001b[0;36minsert\u001b[0;34m(self, loc, column, value, allow_duplicates)\u001b[0m\n\u001b[1;32m   4416\u001b[0m             \u001b[0;32mraise\u001b[0m \u001b[0mTypeError\u001b[0m\u001b[0;34m(\u001b[0m\u001b[0;34m\"loc must be int\"\u001b[0m\u001b[0;34m)\u001b[0m\u001b[0;34m\u001b[0m\u001b[0;34m\u001b[0m\u001b[0m\n\u001b[1;32m   4417\u001b[0m \u001b[0;34m\u001b[0m\u001b[0m\n\u001b[0;32m-> 4418\u001b[0;31m         \u001b[0mvalue\u001b[0m \u001b[0;34m=\u001b[0m \u001b[0mself\u001b[0m\u001b[0;34m.\u001b[0m\u001b[0m_sanitize_column\u001b[0m\u001b[0;34m(\u001b[0m\u001b[0mvalue\u001b[0m\u001b[0;34m)\u001b[0m\u001b[0;34m\u001b[0m\u001b[0;34m\u001b[0m\u001b[0m\n\u001b[0m\u001b[1;32m   4419\u001b[0m         \u001b[0mself\u001b[0m\u001b[0;34m.\u001b[0m\u001b[0m_mgr\u001b[0m\u001b[0;34m.\u001b[0m\u001b[0minsert\u001b[0m\u001b[0;34m(\u001b[0m\u001b[0mloc\u001b[0m\u001b[0;34m,\u001b[0m \u001b[0mcolumn\u001b[0m\u001b[0;34m,\u001b[0m \u001b[0mvalue\u001b[0m\u001b[0;34m)\u001b[0m\u001b[0;34m\u001b[0m\u001b[0;34m\u001b[0m\u001b[0m\n\u001b[1;32m   4420\u001b[0m \u001b[0;34m\u001b[0m\u001b[0m\n",
      "\u001b[0;32m/opt/conda/lib/python3.7/site-packages/pandas/core/frame.py\u001b[0m in \u001b[0;36m_sanitize_column\u001b[0;34m(self, value)\u001b[0m\n\u001b[1;32m   4507\u001b[0m \u001b[0;34m\u001b[0m\u001b[0m\n\u001b[1;32m   4508\u001b[0m         \u001b[0;32mif\u001b[0m \u001b[0mis_list_like\u001b[0m\u001b[0;34m(\u001b[0m\u001b[0mvalue\u001b[0m\u001b[0;34m)\u001b[0m\u001b[0;34m:\u001b[0m\u001b[0;34m\u001b[0m\u001b[0;34m\u001b[0m\u001b[0m\n\u001b[0;32m-> 4509\u001b[0;31m             \u001b[0mcom\u001b[0m\u001b[0;34m.\u001b[0m\u001b[0mrequire_length_match\u001b[0m\u001b[0;34m(\u001b[0m\u001b[0mvalue\u001b[0m\u001b[0;34m,\u001b[0m \u001b[0mself\u001b[0m\u001b[0;34m.\u001b[0m\u001b[0mindex\u001b[0m\u001b[0;34m)\u001b[0m\u001b[0;34m\u001b[0m\u001b[0;34m\u001b[0m\u001b[0m\n\u001b[0m\u001b[1;32m   4510\u001b[0m         \u001b[0;32mreturn\u001b[0m \u001b[0msanitize_array\u001b[0m\u001b[0;34m(\u001b[0m\u001b[0mvalue\u001b[0m\u001b[0;34m,\u001b[0m \u001b[0mself\u001b[0m\u001b[0;34m.\u001b[0m\u001b[0mindex\u001b[0m\u001b[0;34m,\u001b[0m \u001b[0mcopy\u001b[0m\u001b[0;34m=\u001b[0m\u001b[0;32mTrue\u001b[0m\u001b[0;34m,\u001b[0m \u001b[0mallow_2d\u001b[0m\u001b[0;34m=\u001b[0m\u001b[0;32mTrue\u001b[0m\u001b[0;34m)\u001b[0m\u001b[0;34m\u001b[0m\u001b[0;34m\u001b[0m\u001b[0m\n\u001b[1;32m   4511\u001b[0m \u001b[0;34m\u001b[0m\u001b[0m\n",
      "\u001b[0;32m/opt/conda/lib/python3.7/site-packages/pandas/core/common.py\u001b[0m in \u001b[0;36mrequire_length_match\u001b[0;34m(data, index)\u001b[0m\n\u001b[1;32m    530\u001b[0m     \u001b[0;32mif\u001b[0m \u001b[0mlen\u001b[0m\u001b[0;34m(\u001b[0m\u001b[0mdata\u001b[0m\u001b[0;34m)\u001b[0m \u001b[0;34m!=\u001b[0m \u001b[0mlen\u001b[0m\u001b[0;34m(\u001b[0m\u001b[0mindex\u001b[0m\u001b[0;34m)\u001b[0m\u001b[0;34m:\u001b[0m\u001b[0;34m\u001b[0m\u001b[0;34m\u001b[0m\u001b[0m\n\u001b[1;32m    531\u001b[0m         raise ValueError(\n\u001b[0;32m--> 532\u001b[0;31m             \u001b[0;34m\"Length of values \"\u001b[0m\u001b[0;34m\u001b[0m\u001b[0;34m\u001b[0m\u001b[0m\n\u001b[0m\u001b[1;32m    533\u001b[0m             \u001b[0;34mf\"({len(data)}) \"\u001b[0m\u001b[0;34m\u001b[0m\u001b[0;34m\u001b[0m\u001b[0m\n\u001b[1;32m    534\u001b[0m             \u001b[0;34m\"does not match length of index \"\u001b[0m\u001b[0;34m\u001b[0m\u001b[0;34m\u001b[0m\u001b[0m\n",
      "\u001b[0;31mValueError\u001b[0m: Length of values (5) does not match length of index (3)"
     ]
    }
   ],
   "source": [
    "# Let's add new column named shoes right before the suits column.\n",
    "# Since suits has numerical index value 4 then we will use this value as loc.\n",
    "\n",
    "print(store_items)\n",
    "print()\n",
    "# We insert a new column with label shoes right before the column with numerical index 4\n",
    "store_items.insert(4,'shoes',[8,5,5,9,0])\n",
    "\n",
    "# we display the modified DataFrame\n",
    "print(store_items)\n"
   ]
  },
  {
   "cell_type": "code",
   "execution_count": null,
   "id": "7b05ca18",
   "metadata": {
    "execution": {
     "iopub.execute_input": "2022-02-07T23:37:53.441551Z",
     "iopub.status.busy": "2022-02-07T23:37:53.440592Z",
     "iopub.status.idle": "2022-02-07T23:37:53.445658Z",
     "shell.execute_reply": "2022-02-07T23:37:53.444918Z",
     "shell.execute_reply.started": "2022-02-07T23:37:53.441490Z"
    },
    "papermill": {
     "duration": null,
     "end_time": null,
     "exception": null,
     "start_time": null,
     "status": "pending"
    },
    "tags": []
   },
   "outputs": [],
   "source": [
    "# Just as we can add rows and columns we can also delete them. \n",
    "# To delete rows and columns from our DataFrame we will use the \n",
    "# .pop() and .drop() methods. \n",
    "# The .pop() method only allows us to delete columns,\n",
    "# the .drop() method can be used to delete both rows and columns by use of the axis keyword. "
   ]
  },
  {
   "cell_type": "code",
   "execution_count": null,
   "id": "e970f0ca",
   "metadata": {
    "execution": {
     "iopub.execute_input": "2022-02-07T23:38:35.739131Z",
     "iopub.status.busy": "2022-02-07T23:38:35.738401Z",
     "iopub.status.idle": "2022-02-07T23:38:35.754629Z",
     "shell.execute_reply": "2022-02-07T23:38:35.753783Z",
     "shell.execute_reply.started": "2022-02-07T23:38:35.739086Z"
    },
    "papermill": {
     "duration": null,
     "end_time": null,
     "exception": null,
     "start_time": null,
     "status": "pending"
    },
    "tags": []
   },
   "outputs": [],
   "source": [
    "print(store_items)\n",
    "print()\n",
    "# We remove the new watches column\n",
    "store_items.pop('new watches')\n",
    "\n",
    "# we display the modified DataFrame\n",
    "print(store_items)\n"
   ]
  },
  {
   "cell_type": "code",
   "execution_count": null,
   "id": "d7fc9f66",
   "metadata": {
    "execution": {
     "iopub.execute_input": "2022-02-07T23:41:59.493810Z",
     "iopub.status.busy": "2022-02-07T23:41:59.493500Z",
     "iopub.status.idle": "2022-02-07T23:41:59.507231Z",
     "shell.execute_reply": "2022-02-07T23:41:59.506197Z",
     "shell.execute_reply.started": "2022-02-07T23:41:59.493777Z"
    },
    "papermill": {
     "duration": null,
     "end_time": null,
     "exception": null,
     "start_time": null,
     "status": "pending"
    },
    "tags": []
   },
   "outputs": [],
   "source": [
    "#  Delete multiple columns from a DataFrame\n",
    "\n",
    "print(store_items)\n",
    "print()\n",
    "\n",
    "# We remove the watches and shoes columns\n",
    "store_items = store_items.drop(['bikes', 'glasses'], axis = 1)\n",
    "\n",
    "# we display the modified DataFrame\n",
    "print(store_items)\n"
   ]
  },
  {
   "cell_type": "code",
   "execution_count": null,
   "id": "5ad7f8b6",
   "metadata": {
    "execution": {
     "iopub.execute_input": "2022-02-07T23:42:49.448002Z",
     "iopub.status.busy": "2022-02-07T23:42:49.447158Z",
     "iopub.status.idle": "2022-02-07T23:42:49.460233Z",
     "shell.execute_reply": "2022-02-07T23:42:49.459274Z",
     "shell.execute_reply.started": "2022-02-07T23:42:49.447949Z"
    },
    "papermill": {
     "duration": null,
     "end_time": null,
     "exception": null,
     "start_time": null,
     "status": "pending"
    },
    "tags": []
   },
   "outputs": [],
   "source": [
    "# Delete rows from a DataFrame\n",
    "\n",
    "print(store_items)\n",
    "print()\n",
    "# We remove the store 2 and store 1 rows\n",
    "store_items = store_items.drop(['store 2', 'store 1'], axis = 0)\n",
    "\n",
    "# we display the modified DataFrame\n",
    "print(store_items)"
   ]
  },
  {
   "cell_type": "code",
   "execution_count": null,
   "id": "e09daf9b",
   "metadata": {
    "execution": {
     "iopub.execute_input": "2022-02-07T23:44:35.429655Z",
     "iopub.status.busy": "2022-02-07T23:44:35.428949Z",
     "iopub.status.idle": "2022-02-07T23:44:35.449869Z",
     "shell.execute_reply": "2022-02-07T23:44:35.448346Z",
     "shell.execute_reply.started": "2022-02-07T23:44:35.429616Z"
    },
    "papermill": {
     "duration": null,
     "end_time": null,
     "exception": null,
     "start_time": null,
     "status": "pending"
    },
    "tags": []
   },
   "outputs": [],
   "source": [
    "# Sometimes we might need to change the row and column labels.\n",
    "# Let's change the bikes column label to hats using the .rename() method\n",
    "\n",
    "print(store_items)\n",
    "print()\n",
    "# We change the column label pants to hats\n",
    "store_items = store_items.rename(columns = {'pants': 'hats'})\n",
    "\n",
    "# we display the modified DataFrame\n",
    "print(store_items)"
   ]
  },
  {
   "cell_type": "code",
   "execution_count": null,
   "id": "a15b8b31",
   "metadata": {
    "execution": {
     "iopub.execute_input": "2022-02-07T23:45:48.669008Z",
     "iopub.status.busy": "2022-02-07T23:45:48.668690Z",
     "iopub.status.idle": "2022-02-07T23:45:48.679630Z",
     "shell.execute_reply": "2022-02-07T23:45:48.678656Z",
     "shell.execute_reply.started": "2022-02-07T23:45:48.668976Z"
    },
    "papermill": {
     "duration": null,
     "end_time": null,
     "exception": null,
     "start_time": null,
     "status": "pending"
    },
    "tags": []
   },
   "outputs": [],
   "source": [
    "# Now let's change the row label using the .rename() method again.\n",
    "\n",
    "print(store_items)\n",
    "print()\n",
    "# We change the row label from store 3 to last store\n",
    "store_items = store_items.rename(index = {'store 3': 'last store'})\n",
    "\n",
    "# we display the modified DataFrame\n",
    "print(store_items)"
   ]
  },
  {
   "cell_type": "code",
   "execution_count": null,
   "id": "8c61ba11",
   "metadata": {
    "execution": {
     "iopub.execute_input": "2022-02-07T23:47:43.157268Z",
     "iopub.status.busy": "2022-02-07T23:47:43.156930Z",
     "iopub.status.idle": "2022-02-07T23:47:43.168799Z",
     "shell.execute_reply": "2022-02-07T23:47:43.167865Z",
     "shell.execute_reply.started": "2022-02-07T23:47:43.157229Z"
    },
    "papermill": {
     "duration": null,
     "end_time": null,
     "exception": null,
     "start_time": null,
     "status": "pending"
    },
    "tags": []
   },
   "outputs": [],
   "source": [
    "# You can also change the index to be one of the columns in the DataFrame.\n",
    "\n",
    "# Use existing column values as row-index\n",
    "\n",
    "print(store_items)\n",
    "print()\n",
    "# We change the row index to be the data in the pants column\n",
    "store_items = store_items.set_index('hats')\n",
    "\n",
    "# we display the modified DataFrame\n",
    "print(store_items)"
   ]
  },
  {
   "cell_type": "code",
   "execution_count": null,
   "id": "963df361",
   "metadata": {
    "execution": {
     "iopub.execute_input": "2022-02-07T23:48:53.938458Z",
     "iopub.status.busy": "2022-02-07T23:48:53.937741Z",
     "iopub.status.idle": "2022-02-07T23:48:53.958483Z",
     "shell.execute_reply": "2022-02-07T23:48:53.957448Z",
     "shell.execute_reply.started": "2022-02-07T23:48:53.938411Z"
    },
    "papermill": {
     "duration": null,
     "end_time": null,
     "exception": null,
     "start_time": null,
     "status": "pending"
    },
    "tags": []
   },
   "outputs": [],
   "source": [
    "# We will begin by creating a DataFrame with some NaN values in it.\n",
    "\n",
    "# We create a list of Python dictionaries\n",
    "items2 = [{'bikes': 20, 'pants': 30, 'watches': 35, 'shirts': 15, 'shoes':8, 'suits':45},\n",
    "{'watches': 10, 'glasses': 50, 'bikes': 15, 'pants':5, 'shirts': 2, 'shoes':5, 'suits':7},\n",
    "{'bikes': 20, 'pants': 30, 'watches': 35, 'glasses': 4, 'shoes':10}]\n",
    "\n",
    "# We create a DataFrame  and provide the row index\n",
    "store_items = pd.DataFrame(items2, index = ['store 1', 'store 2', 'store 3'])\n",
    "\n",
    "# We display the DataFrame\n",
    "store_items\n"
   ]
  },
  {
   "cell_type": "code",
   "execution_count": null,
   "id": "ef1abfb6",
   "metadata": {
    "execution": {
     "iopub.execute_input": "2022-02-07T23:53:04.639705Z",
     "iopub.status.busy": "2022-02-07T23:53:04.638818Z",
     "iopub.status.idle": "2022-02-07T23:53:04.653906Z",
     "shell.execute_reply": "2022-02-07T23:53:04.652921Z",
     "shell.execute_reply.started": "2022-02-07T23:53:04.639616Z"
    },
    "papermill": {
     "duration": null,
     "end_time": null,
     "exception": null,
     "start_time": null,
     "status": "pending"
    },
    "tags": []
   },
   "outputs": [],
   "source": [
    "# Count the total NaN values\n",
    "\n",
    "# We count the number of NaN values in store_items\n",
    "x =  store_items.isnull()\n",
    "# We print x\n",
    "print('NaN values in our DataFrame:', x)\n",
    "print()\n",
    "\n",
    "y =  store_items.isnull().sum()\n",
    "# We print y\n",
    "print('Number of NaN values in each coumn:', y)\n",
    "print()\n",
    "\n",
    "z =  store_items.isnull().sum().sum()\n",
    "# We print z\n",
    "print('total Number of NaN values in our DataFrame:', z)\n",
    "\n"
   ]
  },
  {
   "cell_type": "code",
   "execution_count": null,
   "id": "73cc5ac2",
   "metadata": {
    "execution": {
     "iopub.execute_input": "2022-02-07T23:54:24.350937Z",
     "iopub.status.busy": "2022-02-07T23:54:24.350540Z",
     "iopub.status.idle": "2022-02-07T23:54:24.365015Z",
     "shell.execute_reply": "2022-02-07T23:54:24.364085Z",
     "shell.execute_reply.started": "2022-02-07T23:54:24.350896Z"
    },
    "papermill": {
     "duration": null,
     "end_time": null,
     "exception": null,
     "start_time": null,
     "status": "pending"
    },
    "tags": []
   },
   "outputs": [],
   "source": [
    "# Instead of counting the number of NaN values we can also do the opposite, we can count the number of non-NaN values. We can do this by using the .count() method as shown below:\n",
    "\n",
    "#Count the total non-NaN values\n",
    "\n",
    "# We print the number of non-NaN values in our DataFrame\n",
    "print()\n",
    "print('Number of non-NaN values in the columns of our DataFrame:\\n', store_items.count())\n"
   ]
  },
  {
   "cell_type": "code",
   "execution_count": null,
   "id": "4776c9dd",
   "metadata": {
    "execution": {
     "iopub.execute_input": "2022-02-07T23:56:40.060091Z",
     "iopub.status.busy": "2022-02-07T23:56:40.059752Z",
     "iopub.status.idle": "2022-02-07T23:56:40.064202Z",
     "shell.execute_reply": "2022-02-07T23:56:40.063239Z",
     "shell.execute_reply.started": "2022-02-07T23:56:40.060053Z"
    },
    "papermill": {
     "duration": null,
     "end_time": null,
     "exception": null,
     "start_time": null,
     "status": "pending"
    },
    "tags": []
   },
   "outputs": [],
   "source": [
    "# Now that we know if our dataset has any NaN values in it,\n",
    "# the next step\n",
    "# is to decide what to do with them.\n",
    "# In general,\n",
    "# we have two options, \n",
    "# we can either\n",
    "# delete or replace the NaN values."
   ]
  },
  {
   "cell_type": "code",
   "execution_count": null,
   "id": "94e115b1",
   "metadata": {
    "execution": {
     "iopub.execute_input": "2022-02-08T00:01:12.308982Z",
     "iopub.status.busy": "2022-02-08T00:01:12.307947Z",
     "iopub.status.idle": "2022-02-08T00:01:12.329660Z",
     "shell.execute_reply": "2022-02-08T00:01:12.328947Z",
     "shell.execute_reply.started": "2022-02-08T00:01:12.308934Z"
    },
    "papermill": {
     "duration": null,
     "end_time": null,
     "exception": null,
     "start_time": null,
     "status": "pending"
    },
    "tags": []
   },
   "outputs": [],
   "source": [
    "# We will start by how to eliminate rows or columns from our DataFrame\n",
    "# that contain any NaN values.\n",
    "\n",
    "# The .dropna(axis) method\n",
    "#          eliminates any rows with NaN values when axis = 0 is used\n",
    "#and will eliminate any columns with NaN values when axis = 1 is used.\n",
    "\n",
    " #   Tip: Remember, you can read axis = 0 as \"down\" and \n",
    "    #                            axis = 1 as \"across\" \n",
    "    # the given Numpy ndarray or Pandas dataframe object.\n",
    "\n",
    "# Drop rows having NaN values\n",
    "\n",
    "print(store_items)\n",
    "print()\n",
    "\n",
    "# We drop any rows with NaN values\n",
    "print(store_items.dropna(axis = 0))\n",
    "print()\n",
    "\n",
    "print(store_items)\n"
   ]
  },
  {
   "cell_type": "code",
   "execution_count": null,
   "id": "29fa8eef",
   "metadata": {
    "execution": {
     "iopub.execute_input": "2022-02-08T00:02:11.518397Z",
     "iopub.status.busy": "2022-02-08T00:02:11.518052Z",
     "iopub.status.idle": "2022-02-08T00:02:11.544875Z",
     "shell.execute_reply": "2022-02-08T00:02:11.543890Z",
     "shell.execute_reply.started": "2022-02-08T00:02:11.518361Z"
    },
    "papermill": {
     "duration": null,
     "end_time": null,
     "exception": null,
     "start_time": null,
     "status": "pending"
    },
    "tags": []
   },
   "outputs": [],
   "source": [
    "print(store_items)\n",
    "print()\n",
    "\n",
    "# We drop any rows with NaN values\n",
    "print(store_items.dropna(axis = 0))\n",
    "print()\n",
    "\n",
    "print(store_items)\n",
    "print()\n",
    "\n",
    "# We drop any columns with NaN values\n",
    "print(store_items.dropna(axis = 1))\n",
    "print()\n",
    "\n",
    "print(store_items)\n"
   ]
  },
  {
   "cell_type": "code",
   "execution_count": null,
   "id": "a2a01699",
   "metadata": {
    "execution": {
     "iopub.execute_input": "2022-02-08T00:04:38.118611Z",
     "iopub.status.busy": "2022-02-08T00:04:38.118218Z",
     "iopub.status.idle": "2022-02-08T00:04:38.122874Z",
     "shell.execute_reply": "2022-02-08T00:04:38.121937Z",
     "shell.execute_reply.started": "2022-02-08T00:04:38.118576Z"
    },
    "papermill": {
     "duration": null,
     "end_time": null,
     "exception": null,
     "start_time": null,
     "status": "pending"
    },
    "tags": []
   },
   "outputs": [],
   "source": [
    "# Substituting NaN Values\n",
    "\n",
    "# Now, instead of eliminating NaN values, \n",
    "# we can replace them with suitable values.\n",
    "# We could choose for example to replace all NaN values with the value 0.\n",
    "# We can do this by using the .fillna() method as shown below."
   ]
  },
  {
   "cell_type": "code",
   "execution_count": null,
   "id": "86e3451f",
   "metadata": {
    "execution": {
     "iopub.execute_input": "2022-02-08T00:06:04.618096Z",
     "iopub.status.busy": "2022-02-08T00:06:04.617765Z",
     "iopub.status.idle": "2022-02-08T00:06:04.637065Z",
     "shell.execute_reply": "2022-02-08T00:06:04.636144Z",
     "shell.execute_reply.started": "2022-02-08T00:06:04.618060Z"
    },
    "papermill": {
     "duration": null,
     "end_time": null,
     "exception": null,
     "start_time": null,
     "status": "pending"
    },
    "tags": []
   },
   "outputs": [],
   "source": [
    "# Replace NaN with 0\n",
    "\n",
    "print(store_items)\n",
    "print()\n",
    "\n",
    "# We replace all NaN values with 0\n",
    "store_items.fillna(0)\n",
    "\n",
    "# We replace all NaN values with 10\n",
    "store_items.fillna(10)\n"
   ]
  },
  {
   "cell_type": "code",
   "execution_count": null,
   "id": "1314999b",
   "metadata": {
    "execution": {
     "iopub.execute_input": "2022-02-08T00:08:50.010390Z",
     "iopub.status.busy": "2022-02-08T00:08:50.009870Z",
     "iopub.status.idle": "2022-02-08T00:08:50.015544Z",
     "shell.execute_reply": "2022-02-08T00:08:50.014455Z",
     "shell.execute_reply.started": "2022-02-08T00:08:50.010330Z"
    },
    "papermill": {
     "duration": null,
     "end_time": null,
     "exception": null,
     "start_time": null,
     "status": "pending"
    },
    "tags": []
   },
   "outputs": [],
   "source": [
    "# We can also use \n",
    "# the .fillna() method to replace NaN values with previous values in the DataFrame,\n",
    "# this is known as forward filling.\n",
    "# When replacing NaN values with forward filling,\n",
    "# we can use previous values taken from columns or rows.\n",
    "\n",
    "# The .fillna(method = 'ffill', axis) will use \n",
    "# the forward filling (ffill) method to replace NaN values\n",
    "# using the previous known value along the given axis. "
   ]
  },
  {
   "cell_type": "code",
   "execution_count": null,
   "id": "3b556196",
   "metadata": {
    "execution": {
     "iopub.execute_input": "2022-02-08T00:09:15.549464Z",
     "iopub.status.busy": "2022-02-08T00:09:15.548961Z",
     "iopub.status.idle": "2022-02-08T00:09:15.571232Z",
     "shell.execute_reply": "2022-02-08T00:09:15.570209Z",
     "shell.execute_reply.started": "2022-02-08T00:09:15.549426Z"
    },
    "papermill": {
     "duration": null,
     "end_time": null,
     "exception": null,
     "start_time": null,
     "status": "pending"
    },
    "tags": []
   },
   "outputs": [],
   "source": [
    "# Forward fill NaN values down (axis = 0) the dataframe\n",
    "\n",
    "print(store_items)\n",
    "print()\n",
    "\n",
    "# We replace NaN values with the previous value in the column\n",
    "store_items.fillna(method = 'ffill', axis = 0)\n"
   ]
  },
  {
   "cell_type": "code",
   "execution_count": null,
   "id": "6665d8bf",
   "metadata": {
    "execution": {
     "iopub.execute_input": "2022-02-08T00:10:45.758513Z",
     "iopub.status.busy": "2022-02-08T00:10:45.758125Z",
     "iopub.status.idle": "2022-02-08T00:10:45.781205Z",
     "shell.execute_reply": "2022-02-08T00:10:45.780311Z",
     "shell.execute_reply.started": "2022-02-08T00:10:45.758467Z"
    },
    "papermill": {
     "duration": null,
     "end_time": null,
     "exception": null,
     "start_time": null,
     "status": "pending"
    },
    "tags": []
   },
   "outputs": [],
   "source": [
    "# Forward fill NaN values across (axis = 1) the dataframe\n",
    "\n",
    "print(store_items)\n",
    "print()\n",
    "\n",
    "# We replace NaN values with the previous value in the row\n",
    "store_items.fillna(method = 'ffill', axis = 1)\n"
   ]
  },
  {
   "cell_type": "code",
   "execution_count": null,
   "id": "d143920a",
   "metadata": {
    "execution": {
     "iopub.execute_input": "2022-02-08T00:12:47.280392Z",
     "iopub.status.busy": "2022-02-08T00:12:47.279955Z",
     "iopub.status.idle": "2022-02-08T00:12:47.285368Z",
     "shell.execute_reply": "2022-02-08T00:12:47.284589Z",
     "shell.execute_reply.started": "2022-02-08T00:12:47.280321Z"
    },
    "papermill": {
     "duration": null,
     "end_time": null,
     "exception": null,
     "start_time": null,
     "status": "pending"
    },
    "tags": []
   },
   "outputs": [],
   "source": [
    "# Similarly,\n",
    "# you can choose to replace the NaN values \n",
    "# with the values that go after them in the DataFrame, \n",
    "# this is known as backward filling. The .fillna(method = 'backfill', axis)"
   ]
  },
  {
   "cell_type": "code",
   "execution_count": null,
   "id": "644d2789",
   "metadata": {
    "execution": {
     "iopub.execute_input": "2022-02-08T00:13:21.811643Z",
     "iopub.status.busy": "2022-02-08T00:13:21.810874Z",
     "iopub.status.idle": "2022-02-08T00:13:21.832745Z",
     "shell.execute_reply": "2022-02-08T00:13:21.831769Z",
     "shell.execute_reply.started": "2022-02-08T00:13:21.811585Z"
    },
    "papermill": {
     "duration": null,
     "end_time": null,
     "exception": null,
     "start_time": null,
     "status": "pending"
    },
    "tags": []
   },
   "outputs": [],
   "source": [
    "# Backward fill NaN values down (axis = 0) the dataframe\n",
    "\n",
    "print(store_items)\n",
    "print()\n",
    "\n",
    "# We replace NaN values with the next value in the column\n",
    "store_items.fillna(method = 'backfill', axis = 0)\n"
   ]
  },
  {
   "cell_type": "code",
   "execution_count": null,
   "id": "04b9871a",
   "metadata": {
    "execution": {
     "iopub.execute_input": "2022-02-08T00:14:21.237319Z",
     "iopub.status.busy": "2022-02-08T00:14:21.236981Z",
     "iopub.status.idle": "2022-02-08T00:14:21.260253Z",
     "shell.execute_reply": "2022-02-08T00:14:21.259374Z",
     "shell.execute_reply.started": "2022-02-08T00:14:21.237286Z"
    },
    "papermill": {
     "duration": null,
     "end_time": null,
     "exception": null,
     "start_time": null,
     "status": "pending"
    },
    "tags": []
   },
   "outputs": [],
   "source": [
    "# Backward fill NaN values down (axis = 1) the dataframe\n",
    "\n",
    "print(store_items)\n",
    "print()\n",
    "\n",
    "# We replace NaN values with the next value in the raw\n",
    "store_items.fillna(method = 'backfill', axis = 1)\n"
   ]
  },
  {
   "cell_type": "code",
   "execution_count": null,
   "id": "11b9edb1",
   "metadata": {
    "execution": {
     "iopub.execute_input": "2022-02-08T00:15:56.631938Z",
     "iopub.status.busy": "2022-02-08T00:15:56.631583Z",
     "iopub.status.idle": "2022-02-08T00:15:56.636070Z",
     "shell.execute_reply": "2022-02-08T00:15:56.635232Z",
     "shell.execute_reply.started": "2022-02-08T00:15:56.631897Z"
    },
    "papermill": {
     "duration": null,
     "end_time": null,
     "exception": null,
     "start_time": null,
     "status": "pending"
    },
    "tags": []
   },
   "outputs": [],
   "source": [
    "# Notice that the .fillna() method replaces (fills) the NaN values out of place. \n",
    "# This means that the original DataFrame is not modified.\n",
    "# You can always replace the NaN values in place \n",
    "# by setting the keyword inplace = True inside the fillna() function."
   ]
  },
  {
   "cell_type": "code",
   "execution_count": null,
   "id": "fdb485e5",
   "metadata": {
    "execution": {
     "iopub.execute_input": "2022-02-08T00:17:25.229098Z",
     "iopub.status.busy": "2022-02-08T00:17:25.228737Z",
     "iopub.status.idle": "2022-02-08T00:17:25.233057Z",
     "shell.execute_reply": "2022-02-08T00:17:25.232268Z",
     "shell.execute_reply.started": "2022-02-08T00:17:25.229057Z"
    },
    "papermill": {
     "duration": null,
     "end_time": null,
     "exception": null,
     "start_time": null,
     "status": "pending"
    },
    "tags": []
   },
   "outputs": [],
   "source": [
    "# We can also choose to replace NaN values by using different interpolation methods.\n",
    "# For example,\n",
    "# the .interpolate(method = 'linear', axis) method\n",
    "# will use linear interpolation to replace NaN values \n",
    "# using the values along the given axis."
   ]
  },
  {
   "cell_type": "code",
   "execution_count": null,
   "id": "b54e3f8b",
   "metadata": {
    "execution": {
     "iopub.execute_input": "2022-02-08T00:17:46.078655Z",
     "iopub.status.busy": "2022-02-08T00:17:46.078292Z",
     "iopub.status.idle": "2022-02-08T00:17:46.100287Z",
     "shell.execute_reply": "2022-02-08T00:17:46.099642Z",
     "shell.execute_reply.started": "2022-02-08T00:17:46.078616Z"
    },
    "papermill": {
     "duration": null,
     "end_time": null,
     "exception": null,
     "start_time": null,
     "status": "pending"
    },
    "tags": []
   },
   "outputs": [],
   "source": [
    "# Interpolate (estimate) NaN values down (axis = 0) the dataframe\n",
    "\n",
    "print(store_items)\n",
    "print()\n",
    "\n",
    "# We replace NaN values by using linear interpolation using column values\n",
    "store_items.interpolate(method = 'linear', axis = 0)\n"
   ]
  },
  {
   "cell_type": "code",
   "execution_count": null,
   "id": "247b67e7",
   "metadata": {
    "execution": {
     "iopub.execute_input": "2022-02-08T00:19:21.447901Z",
     "iopub.status.busy": "2022-02-08T00:19:21.447115Z",
     "iopub.status.idle": "2022-02-08T00:19:21.473205Z",
     "shell.execute_reply": "2022-02-08T00:19:21.472569Z",
     "shell.execute_reply.started": "2022-02-08T00:19:21.447855Z"
    },
    "papermill": {
     "duration": null,
     "end_time": null,
     "exception": null,
     "start_time": null,
     "status": "pending"
    },
    "tags": []
   },
   "outputs": [],
   "source": [
    "print(store_items)\n",
    "print()\n",
    "\n",
    "# We replace NaN values by using linear interpolation using row values\n",
    "store_items.interpolate(method = 'linear', axis = 1)"
   ]
  },
  {
   "cell_type": "code",
   "execution_count": null,
   "id": "1e2327b7",
   "metadata": {
    "execution": {
     "iopub.execute_input": "2022-02-08T00:45:02.733014Z",
     "iopub.status.busy": "2022-02-08T00:45:02.732201Z",
     "iopub.status.idle": "2022-02-08T00:45:02.751386Z",
     "shell.execute_reply": "2022-02-08T00:45:02.750226Z",
     "shell.execute_reply.started": "2022-02-08T00:45:02.732963Z"
    },
    "papermill": {
     "duration": null,
     "end_time": null,
     "exception": null,
     "start_time": null,
     "status": "pending"
    },
    "tags": []
   },
   "outputs": [],
   "source": [
    "import pandas as pd\n",
    "import numpy as np\n",
    "\n",
    "# DO NOT CHANGE THE VARIABLE NAMES\n",
    "\n",
    "# Set the precision of our dataframes to one decimal place.\n",
    "pd.set_option('precision', 1)\n",
    "\n",
    "# Create a Pandas DataFrame that contains the ratings some users have given to a series of books. \n",
    "# The ratings given are in the range from 1 to 5, with 5 being the best score. \n",
    "# The names of the books, the corresponding authors, and the ratings of each user are given below:\n",
    "\n",
    "books = pd.Series(data = ['Great Expectations', 'Of Mice and Men', 'Romeo and Juliet', 'The Time Machine', 'Alice in Wonderland' ])\n",
    "authors = pd.Series(data = ['Charles Dickens', 'John Steinbeck', 'William Shakespeare', ' H. G. Wells', 'Lewis Carroll' ])\n",
    "\n",
    "# User ratings are in the order of the book titles mentioned above\n",
    "# If a user has not rated all books, Pandas will automatically consider the missing values as NaN.\n",
    "# If a user has mentioned `np.nan` value, then also it means that the user has not yet rated that book.\n",
    "user_1 = pd.Series(data = [3.2, np.nan ,2.5])\n",
    "user_2 = pd.Series(data = [5., 1.3, 4.0, 3.8])\n",
    "user_3 = pd.Series(data = [2.0, 2.3, np.nan, 4])\n",
    "user_4 = pd.Series(data = [4, 3.5, 4, 5, 4.2])\n",
    "\n",
    "\n",
    "# Use the data above to create a Pandas DataFrame that has the following column\n",
    "# labels: 'Author', 'Book Title', 'User 1', 'User 2', 'User 3', 'User 4'. \n",
    "# Let Pandas automatically assign numerical row indices to the DataFrame. \n",
    "\n",
    "# TO DO: Create a dictionary with the data given above\n",
    "dat ={'Author' : authors , 'Book Title' : books , 'User 1' : user_1 , 'User 2' : user_2 , 'User 3' : user_3 , 'User 4' : user_4}\n",
    "\n",
    "# TO DO: Create a Pandas DataFrame using the dictionary created above\n",
    "book_ratings = pd.DataFrame(dat) \n",
    "\n",
    "# TO DO:\n",
    "# If you created the dictionary correctly you should have a Pandas DataFrame\n",
    "# that has column labels: \n",
    "# 'Author', 'Book Title', 'User 1', 'User 2', 'User 3', 'User 4' \n",
    "# and row indices 0 through 4.\n",
    "\n",
    "# Now replace all the NaN values in your DataFrame with the average rating in\n",
    "# each column. Replace the NaN values in place. \n",
    "# HINT: Use the `pandas.DataFrame.fillna(value, inplace = True)` function for substituting the NaN values. \n",
    "# Write your code below:\n",
    "print(book_ratings)\n",
    "print()\n",
    "\n",
    "# book_ratings.fillna(book_ratings.mean(),inplace = True)\n"
   ]
  },
  {
   "cell_type": "code",
   "execution_count": null,
   "id": "a0a5f4d5",
   "metadata": {
    "execution": {
     "iopub.execute_input": "2022-02-08T00:57:00.001729Z",
     "iopub.status.busy": "2022-02-08T00:57:00.001152Z",
     "iopub.status.idle": "2022-02-08T00:57:00.616431Z",
     "shell.execute_reply": "2022-02-08T00:57:00.615210Z",
     "shell.execute_reply.started": "2022-02-08T00:57:00.001691Z"
    },
    "papermill": {
     "duration": null,
     "end_time": null,
     "exception": null,
     "start_time": null,
     "status": "pending"
    },
    "tags": []
   },
   "outputs": [],
   "source": [
    "# Load the data from a .csv file.\n",
    "\n",
    "other_path = \"https://cf-courses-data.s3.us.cloud-object-storage.appdomain.cloud/IBMDeveloperSkillsNetwork-DA0101EN-SkillsNetwork/labs/Data%20files/auto.csv\"\n",
    "\n",
    "\n",
    "# We load Google stock data in a DataFrame\n",
    "car_price = pd.read_csv(other_path)\n",
    "\n",
    "# We print some information about Google_stock\n",
    "print('car_price is of type:', type(car_price))\n",
    "print('car_price has shape:', car_price.shape)\n",
    "\n"
   ]
  },
  {
   "cell_type": "code",
   "execution_count": null,
   "id": "f76ed7f1",
   "metadata": {
    "execution": {
     "iopub.execute_input": "2022-02-08T00:58:02.590609Z",
     "iopub.status.busy": "2022-02-08T00:58:02.588880Z",
     "iopub.status.idle": "2022-02-08T00:58:02.622558Z",
     "shell.execute_reply": "2022-02-08T00:58:02.621263Z",
     "shell.execute_reply.started": "2022-02-08T00:58:02.590538Z"
    },
    "papermill": {
     "duration": null,
     "end_time": null,
     "exception": null,
     "start_time": null,
     "status": "pending"
    },
    "tags": []
   },
   "outputs": [],
   "source": [
    "# Look at the first 5 rows of the DataFrame\n",
    "\n",
    "car_price.head()\n"
   ]
  },
  {
   "cell_type": "code",
   "execution_count": null,
   "id": "0258a963",
   "metadata": {
    "execution": {
     "iopub.execute_input": "2022-02-08T00:58:53.031263Z",
     "iopub.status.busy": "2022-02-08T00:58:53.030943Z",
     "iopub.status.idle": "2022-02-08T00:58:53.059339Z",
     "shell.execute_reply": "2022-02-08T00:58:53.058488Z",
     "shell.execute_reply.started": "2022-02-08T00:58:53.031229Z"
    },
    "papermill": {
     "duration": null,
     "end_time": null,
     "exception": null,
     "start_time": null,
     "status": "pending"
    },
    "tags": []
   },
   "outputs": [],
   "source": [
    "#Look at the last 5 rows of the DataFrame\n",
    "car_price.tail()"
   ]
  },
  {
   "cell_type": "code",
   "execution_count": null,
   "id": "1a0a63d4",
   "metadata": {
    "execution": {
     "iopub.execute_input": "2022-02-08T01:00:32.219400Z",
     "iopub.status.busy": "2022-02-08T01:00:32.219008Z",
     "iopub.status.idle": "2022-02-08T01:00:32.232838Z",
     "shell.execute_reply": "2022-02-08T01:00:32.231473Z",
     "shell.execute_reply.started": "2022-02-08T01:00:32.219343Z"
    },
    "papermill": {
     "duration": null,
     "end_time": null,
     "exception": null,
     "start_time": null,
     "status": "pending"
    },
    "tags": []
   },
   "outputs": [],
   "source": [
    "# Let's do a quick check to see whether\n",
    "# we have any NaN values in our dataset. \n",
    "# To do this, we will use\n",
    "# the .isnull() method followed by the .any() method \n",
    "# to check whether any of the columns contain NaN values.\n",
    "\n",
    "# Check if any column contains a NaN.\n",
    "# Returns a boolean for each column label.\n",
    "\n",
    "car_price.isnull().any()\n"
   ]
  },
  {
   "cell_type": "code",
   "execution_count": null,
   "id": "ddeaefaf",
   "metadata": {
    "execution": {
     "iopub.execute_input": "2022-02-08T01:01:17.850306Z",
     "iopub.status.busy": "2022-02-08T01:01:17.849802Z",
     "iopub.status.idle": "2022-02-08T01:01:17.894107Z",
     "shell.execute_reply": "2022-02-08T01:01:17.893473Z",
     "shell.execute_reply.started": "2022-02-08T01:01:17.850269Z"
    },
    "papermill": {
     "duration": null,
     "end_time": null,
     "exception": null,
     "start_time": null,
     "status": "pending"
    },
    "tags": []
   },
   "outputs": [],
   "source": [
    "# See the descriptive statistics of the DataFrame\n",
    "\n",
    "car_price.describe()"
   ]
  },
  {
   "cell_type": "code",
   "execution_count": null,
   "id": "3ffc2e55",
   "metadata": {
    "execution": {
     "iopub.execute_input": "2022-02-08T01:03:11.762500Z",
     "iopub.status.busy": "2022-02-08T01:03:11.761953Z",
     "iopub.status.idle": "2022-02-08T01:03:11.770307Z",
     "shell.execute_reply": "2022-02-08T01:03:11.769195Z",
     "shell.execute_reply.started": "2022-02-08T01:03:11.762458Z"
    },
    "papermill": {
     "duration": null,
     "end_time": null,
     "exception": null,
     "start_time": null,
     "status": "pending"
    },
    "tags": []
   },
   "outputs": [],
   "source": [
    "#First, we create a list \"headers\" that include all column names in order\n",
    "\n",
    "headers = [\"symboling\",\"normalized-losses\",\"make\",\"fuel-type\",\"aspiration\", \"num-of-doors\",\"body-style\",\n",
    "         \"drive-wheels\",\"engine-location\",\"wheel-base\", \"length\",\"width\",\"height\",\"curb-weight\",\"engine-type\",\n",
    "         \"num-of-cylinders\", \"engine-size\",\"fuel-system\",\"bore\",\"stroke\",\"compression-ratio\",\"horsepower\",\n",
    "         \"peak-rpm\",\"city-mpg\",\"highway-mpg\",\"price\"]\n",
    "\n",
    "print(\"headers\\n\", headers)"
   ]
  },
  {
   "cell_type": "code",
   "execution_count": null,
   "id": "2f04f9f6",
   "metadata": {
    "execution": {
     "iopub.execute_input": "2022-02-08T01:03:46.398317Z",
     "iopub.status.busy": "2022-02-08T01:03:46.397822Z",
     "iopub.status.idle": "2022-02-08T01:03:46.430899Z",
     "shell.execute_reply": "2022-02-08T01:03:46.429615Z",
     "shell.execute_reply.started": "2022-02-08T01:03:46.398280Z"
    },
    "papermill": {
     "duration": null,
     "end_time": null,
     "exception": null,
     "start_time": null,
     "status": "pending"
    },
    "tags": []
   },
   "outputs": [],
   "source": [
    "car_price.columns = headers\n",
    "car_price.head(10)"
   ]
  },
  {
   "cell_type": "code",
   "execution_count": null,
   "id": "2fcfb264",
   "metadata": {
    "execution": {
     "iopub.execute_input": "2022-02-08T01:04:13.159052Z",
     "iopub.status.busy": "2022-02-08T01:04:13.158573Z",
     "iopub.status.idle": "2022-02-08T01:04:13.171489Z",
     "shell.execute_reply": "2022-02-08T01:04:13.170265Z",
     "shell.execute_reply.started": "2022-02-08T01:04:13.159017Z"
    },
    "papermill": {
     "duration": null,
     "end_time": null,
     "exception": null,
     "start_time": null,
     "status": "pending"
    },
    "tags": []
   },
   "outputs": [],
   "source": [
    "# See the descriptive statistics of one of the columns of the DataFrame\n",
    "\n",
    "# We get descriptive statistics on a single column of our DataFrame\n",
    "car_price['symboling'].describe()\n"
   ]
  },
  {
   "cell_type": "code",
   "execution_count": null,
   "id": "4c779777",
   "metadata": {
    "execution": {
     "iopub.execute_input": "2022-02-08T01:05:54.930406Z",
     "iopub.status.busy": "2022-02-08T01:05:54.929997Z",
     "iopub.status.idle": "2022-02-08T01:05:54.956383Z",
     "shell.execute_reply": "2022-02-08T01:05:54.954558Z",
     "shell.execute_reply.started": "2022-02-08T01:05:54.930362Z"
    },
    "papermill": {
     "duration": null,
     "end_time": null,
     "exception": null,
     "start_time": null,
     "status": "pending"
    },
    "tags": []
   },
   "outputs": [],
   "source": [
    "#  Statistical operations - Min, Max, and Mean\n",
    "\n",
    "# We print information about our DataFrame  \n",
    "print()\n",
    "print('Maximum values of each column:\\n', car_price.max())\n",
    "print()\n",
    "print('Minimum Close value:', car_price['normalized-losses'].min())\n",
    "print()\n",
    "print('Average value of each column:\\n', car_price.mean())\n"
   ]
  },
  {
   "cell_type": "code",
   "execution_count": null,
   "id": "e1a752e8",
   "metadata": {
    "execution": {
     "iopub.execute_input": "2022-02-08T01:06:51.607216Z",
     "iopub.status.busy": "2022-02-08T01:06:51.606907Z",
     "iopub.status.idle": "2022-02-08T01:06:51.632912Z",
     "shell.execute_reply": "2022-02-08T01:06:51.631993Z",
     "shell.execute_reply.started": "2022-02-08T01:06:51.607185Z"
    },
    "papermill": {
     "duration": null,
     "end_time": null,
     "exception": null,
     "start_time": null,
     "status": "pending"
    },
    "tags": []
   },
   "outputs": [],
   "source": [
    "#  Statistical operation - Correlation\n",
    "\n",
    "# We display the correlation between columns\n",
    "car_price.corr()\n"
   ]
  },
  {
   "cell_type": "code",
   "execution_count": null,
   "id": "13b90da3",
   "metadata": {
    "execution": {
     "iopub.execute_input": "2022-02-08T01:08:17.098816Z",
     "iopub.status.busy": "2022-02-08T01:08:17.098394Z",
     "iopub.status.idle": "2022-02-08T01:08:17.103823Z",
     "shell.execute_reply": "2022-02-08T01:08:17.102568Z",
     "shell.execute_reply.started": "2022-02-08T01:08:17.098775Z"
    },
    "papermill": {
     "duration": null,
     "end_time": null,
     "exception": null,
     "start_time": null,
     "status": "pending"
    },
    "tags": []
   },
   "outputs": [],
   "source": [
    "# groupby() method\n",
    "\n",
    "# The .groupby() method allows us to group data in different ways.\n",
    "# Let's see how we can group data to get different types of information"
   ]
  },
  {
   "cell_type": "code",
   "execution_count": null,
   "id": "ece96eeb",
   "metadata": {
    "papermill": {
     "duration": null,
     "end_time": null,
     "exception": null,
     "start_time": null,
     "status": "pending"
    },
    "tags": []
   },
   "outputs": [],
   "source": []
  }
 ],
 "metadata": {
  "kernelspec": {
   "display_name": "Python 3",
   "language": "python",
   "name": "python3"
  },
  "language_info": {
   "codemirror_mode": {
    "name": "ipython",
    "version": 3
   },
   "file_extension": ".py",
   "mimetype": "text/x-python",
   "name": "python",
   "nbconvert_exporter": "python",
   "pygments_lexer": "ipython3",
   "version": "3.7.12"
  },
  "papermill": {
   "default_parameters": {},
   "duration": 15.92678,
   "end_time": "2022-02-08T01:09:24.651418",
   "environment_variables": {},
   "exception": true,
   "input_path": "__notebook__.ipynb",
   "output_path": "__notebook__.ipynb",
   "parameters": {},
   "start_time": "2022-02-08T01:09:08.724638",
   "version": "2.3.3"
  }
 },
 "nbformat": 4,
 "nbformat_minor": 5
}
